{
 "cells": [
  {
   "cell_type": "markdown",
   "metadata": {},
   "source": [
    "### Directly Download from GC and save as netcdf files\n",
    "- This is for those who cannot use zarr/python for processing the CMIP6 datasets\n",
    "- Please note that the netcdf files have CF-compliant time grids, but might not be what you are used to"
   ]
  },
  {
   "cell_type": "code",
   "execution_count": 1,
   "metadata": {},
   "outputs": [],
   "source": [
    "import numpy as np\n",
    "import pandas as pd\n",
    "import os\n",
    "import gcsfs #google cloud file system. \n",
    "import xarray as xr\n",
    "import warnings\n",
    "from glob import glob # use * !\n",
    "import scipy.io as sio\n",
    "\n",
    "from matplotlib import pyplot as plt\n",
    "%matplotlib inline\n",
    "plt.rcParams['figure.figsize'] = (8,5)"
   ]
  },
  {
   "cell_type": "code",
   "execution_count": 2,
   "metadata": {},
   "outputs": [],
   "source": [
    "from utilities import search_df, add_time_info, get_zdict #extra functions"
   ]
  },
  {
   "cell_type": "markdown",
   "metadata": {},
   "source": [
    "### Initialization"
   ]
  },
  {
   "cell_type": "code",
   "execution_count": 3,
   "metadata": {},
   "outputs": [],
   "source": [
    "# Where to write local netcdf files:\n",
    "username = os.environ['JUPYTERHUB_USER']\n",
    "mach = os.uname()[1]\n",
    "\n",
    "zarr_local = f'/home/{username}/netcdf/cmip6/piC'\n",
    "if not os.path.exists(zarr_local):\n",
    "    print(f'Please create the directory {zarr_local}')\n",
    "    "
   ]
  },
  {
   "cell_type": "code",
   "execution_count": 4,
   "metadata": {},
   "outputs": [
    {
     "data": {
      "text/html": [
       "<div>\n",
       "<style scoped>\n",
       "    .dataframe tbody tr th:only-of-type {\n",
       "        vertical-align: middle;\n",
       "    }\n",
       "\n",
       "    .dataframe tbody tr th {\n",
       "        vertical-align: top;\n",
       "    }\n",
       "\n",
       "    .dataframe thead th {\n",
       "        text-align: right;\n",
       "    }\n",
       "</style>\n",
       "<table border=\"1\" class=\"dataframe\">\n",
       "  <thead>\n",
       "    <tr style=\"text-align: right;\">\n",
       "      <th></th>\n",
       "      <th>activity_id</th>\n",
       "      <th>institution_id</th>\n",
       "      <th>source_id</th>\n",
       "      <th>experiment_id</th>\n",
       "      <th>member_id</th>\n",
       "      <th>table_id</th>\n",
       "      <th>variable_id</th>\n",
       "      <th>grid_label</th>\n",
       "      <th>zstore</th>\n",
       "      <th>dcpp_init_year</th>\n",
       "      <th>version</th>\n",
       "      <th>status</th>\n",
       "      <th>severity</th>\n",
       "      <th>issue_url</th>\n",
       "    </tr>\n",
       "  </thead>\n",
       "  <tbody>\n",
       "    <tr>\n",
       "      <th>0</th>\n",
       "      <td>AerChemMIP</td>\n",
       "      <td>AS-RCEC</td>\n",
       "      <td>TaiESM1</td>\n",
       "      <td>histSST</td>\n",
       "      <td>r1i1p1f1</td>\n",
       "      <td>AERmon</td>\n",
       "      <td>od550aer</td>\n",
       "      <td>gn</td>\n",
       "      <td>gs://cmip6/AerChemMIP/AS-RCEC/TaiESM1/histSST/...</td>\n",
       "      <td>NaN</td>\n",
       "      <td>20200310</td>\n",
       "      <td>good</td>\n",
       "      <td>none</td>\n",
       "      <td>none</td>\n",
       "    </tr>\n",
       "    <tr>\n",
       "      <th>1</th>\n",
       "      <td>AerChemMIP</td>\n",
       "      <td>BCC</td>\n",
       "      <td>BCC-ESM1</td>\n",
       "      <td>histSST</td>\n",
       "      <td>r1i1p1f1</td>\n",
       "      <td>AERmon</td>\n",
       "      <td>mmrbc</td>\n",
       "      <td>gn</td>\n",
       "      <td>gs://cmip6/AerChemMIP/BCC/BCC-ESM1/histSST/r1i...</td>\n",
       "      <td>NaN</td>\n",
       "      <td>20190718</td>\n",
       "      <td>good</td>\n",
       "      <td>none</td>\n",
       "      <td>none</td>\n",
       "    </tr>\n",
       "    <tr>\n",
       "      <th>2</th>\n",
       "      <td>AerChemMIP</td>\n",
       "      <td>BCC</td>\n",
       "      <td>BCC-ESM1</td>\n",
       "      <td>histSST</td>\n",
       "      <td>r1i1p1f1</td>\n",
       "      <td>AERmon</td>\n",
       "      <td>mmrdust</td>\n",
       "      <td>gn</td>\n",
       "      <td>gs://cmip6/AerChemMIP/BCC/BCC-ESM1/histSST/r1i...</td>\n",
       "      <td>NaN</td>\n",
       "      <td>20191127</td>\n",
       "      <td>good</td>\n",
       "      <td>none</td>\n",
       "      <td>none</td>\n",
       "    </tr>\n",
       "    <tr>\n",
       "      <th>3</th>\n",
       "      <td>AerChemMIP</td>\n",
       "      <td>BCC</td>\n",
       "      <td>BCC-ESM1</td>\n",
       "      <td>histSST</td>\n",
       "      <td>r1i1p1f1</td>\n",
       "      <td>AERmon</td>\n",
       "      <td>mmroa</td>\n",
       "      <td>gn</td>\n",
       "      <td>gs://cmip6/AerChemMIP/BCC/BCC-ESM1/histSST/r1i...</td>\n",
       "      <td>NaN</td>\n",
       "      <td>20190809</td>\n",
       "      <td>good</td>\n",
       "      <td>none</td>\n",
       "      <td>none</td>\n",
       "    </tr>\n",
       "    <tr>\n",
       "      <th>4</th>\n",
       "      <td>AerChemMIP</td>\n",
       "      <td>BCC</td>\n",
       "      <td>BCC-ESM1</td>\n",
       "      <td>histSST</td>\n",
       "      <td>r1i1p1f1</td>\n",
       "      <td>AERmon</td>\n",
       "      <td>mmrso4</td>\n",
       "      <td>gn</td>\n",
       "      <td>gs://cmip6/AerChemMIP/BCC/BCC-ESM1/histSST/r1i...</td>\n",
       "      <td>NaN</td>\n",
       "      <td>20191127</td>\n",
       "      <td>good</td>\n",
       "      <td>none</td>\n",
       "      <td>none</td>\n",
       "    </tr>\n",
       "  </tbody>\n",
       "</table>\n",
       "</div>"
      ],
      "text/plain": [
       "  activity_id institution_id source_id experiment_id member_id table_id  \\\n",
       "0  AerChemMIP        AS-RCEC   TaiESM1       histSST  r1i1p1f1   AERmon   \n",
       "1  AerChemMIP            BCC  BCC-ESM1       histSST  r1i1p1f1   AERmon   \n",
       "2  AerChemMIP            BCC  BCC-ESM1       histSST  r1i1p1f1   AERmon   \n",
       "3  AerChemMIP            BCC  BCC-ESM1       histSST  r1i1p1f1   AERmon   \n",
       "4  AerChemMIP            BCC  BCC-ESM1       histSST  r1i1p1f1   AERmon   \n",
       "\n",
       "  variable_id grid_label                                             zstore  \\\n",
       "0    od550aer         gn  gs://cmip6/AerChemMIP/AS-RCEC/TaiESM1/histSST/...   \n",
       "1       mmrbc         gn  gs://cmip6/AerChemMIP/BCC/BCC-ESM1/histSST/r1i...   \n",
       "2     mmrdust         gn  gs://cmip6/AerChemMIP/BCC/BCC-ESM1/histSST/r1i...   \n",
       "3       mmroa         gn  gs://cmip6/AerChemMIP/BCC/BCC-ESM1/histSST/r1i...   \n",
       "4      mmrso4         gn  gs://cmip6/AerChemMIP/BCC/BCC-ESM1/histSST/r1i...   \n",
       "\n",
       "  dcpp_init_year   version status severity issue_url  \n",
       "0            NaN  20200310   good     none      none  \n",
       "1            NaN  20190718   good     none      none  \n",
       "2            NaN  20191127   good     none      none  \n",
       "3            NaN  20190809   good     none      none  \n",
       "4            NaN  20191127   good     none      none  "
      ]
     },
     "execution_count": 4,
     "metadata": {},
     "output_type": "execute_result"
    }
   ],
   "source": [
    "# This is the master CMIP6 Google Cloud catalog\n",
    "df_cloud = pd.read_csv('https://cmip6.storage.googleapis.com/cmip6-zarr-consolidated-stores-noQC.csv', dtype='unicode')\n",
    "df_cloud.head()"
   ]
  },
  {
   "cell_type": "markdown",
   "metadata": {},
   "source": [
    "### Choose basic configuration parameters"
   ]
  },
  {
   "cell_type": "code",
   "execution_count": 75,
   "metadata": {},
   "outputs": [],
   "source": [
    "# Here we search the CMIP6 data for the datasets you need - using the same keywords as at the ESGF sites\n",
    "#       https://esgf-node.llnl.gov/search/cmip6/\n",
    "\n",
    "debug = False\n",
    "\n",
    "# must choose ONE table_id  (only works for *mon or *day)\n",
    "table_id = 'Amon'\n",
    "\n",
    "#must choose LIST of experiments, variables\n",
    "experiments = ['piControl']\n",
    "variables = ['pr']\n",
    "\n",
    "# can specify 'All' or give a list or string\n",
    "#sources = ['SAM0-UNICON']#MCM-UA-1-0']  # omit the [] to get all models with CESM2 in their name\n",
    "sources = 'All'\n",
    "#members = ['r1i1p1f1']\n",
    "members = 'All'"
   ]
  },
  {
   "cell_type": "code",
   "execution_count": 76,
   "metadata": {},
   "outputs": [
    {
     "name": "stdout",
     "output_type": "stream",
     "text": [
      "number of matching datasets 68\n"
     ]
    },
    {
     "data": {
      "text/plain": [
       "array(['gs://cmip6/CMIP/AS-RCEC/TaiESM1/piControl/r1i1p1f1/Amon/pr/gn/',\n",
       "       'gs://cmip6/CMIP/AWI/AWI-CM-1-1-MR/piControl/r1i1p1f1/Amon/pr/gn/',\n",
       "       'gs://cmip6/CMIP/AWI/AWI-ESM-1-1-LR/piControl/r1i1p1f1/Amon/pr/gn/',\n",
       "       'gs://cmip6/CMIP/BCC/BCC-CSM2-MR/piControl/r1i1p1f1/Amon/pr/gn/',\n",
       "       'gs://cmip6/CMIP/BCC/BCC-ESM1/piControl/r1i1p1f1/Amon/pr/gn/',\n",
       "       'gs://cmip6/CMIP/CAMS/CAMS-CSM1-0/piControl/r1i1p1f1/Amon/pr/gn/',\n",
       "       'gs://cmip6/CMIP/CAS/CAS-ESM2-0/piControl/r1i1p1f1/Amon/pr/gn/',\n",
       "       'gs://cmip6/CMIP/CAS/FGOALS-f3-L/piControl/r1i1p1f1/Amon/pr/gr/',\n",
       "       'gs://cmip6/CMIP/CAS/FGOALS-g3/piControl/r1i1p1f1/Amon/pr/gn/',\n",
       "       'gs://cmip6/CMIP/CCCma/CanESM5-CanOE/piControl/r1i1p2f1/Amon/pr/gn/',\n",
       "       'gs://cmip6/CMIP/CCCma/CanESM5/piControl/r1i1p1f1/Amon/pr/gn/',\n",
       "       'gs://cmip6/CMIP/CCCma/CanESM5/piControl/r1i1p2f1/Amon/pr/gn/',\n",
       "       'gs://cmip6/CMIP/CCCR-IITM/IITM-ESM/piControl/r1i1p1f1/Amon/pr/gn/',\n",
       "       'gs://cmip6/CMIP/CNRM-CERFACS/CNRM-CM6-1-HR/piControl/r1i1p1f2/Amon/pr/gr/',\n",
       "       'gs://cmip6/CMIP/CNRM-CERFACS/CNRM-CM6-1/piControl/r1i1p1f2/Amon/pr/gr/',\n",
       "       'gs://cmip6/CMIP/CNRM-CERFACS/CNRM-ESM2-1/piControl/r1i1p1f2/Amon/pr/gr/',\n",
       "       'gs://cmip6/CMIP/CSIRO-ARCCSS/ACCESS-CM2/piControl/r1i1p1f1/Amon/pr/gn/',\n",
       "       'gs://cmip6/CMIP/CSIRO/ACCESS-ESM1-5/piControl/r1i1p1f1/Amon/pr/gn/',\n",
       "       'gs://cmip6/CMIP/E3SM-Project/E3SM-1-0/piControl/r1i1p1f1/Amon/pr/gr/',\n",
       "       'gs://cmip6/CMIP/E3SM-Project/E3SM-1-1-ECA/piControl/r1i1p1f1/Amon/pr/gr/',\n",
       "       'gs://cmip6/CMIP/E3SM-Project/E3SM-1-1/piControl/r1i1p1f1/Amon/pr/gr/',\n",
       "       'gs://cmip6/CMIP/EC-Earth-Consortium/EC-Earth3-LR/piControl/r1i1p1f1/Amon/pr/gr/',\n",
       "       'gs://cmip6/CMIP/EC-Earth-Consortium/EC-Earth3-Veg-LR/piControl/r1i1p1f1/Amon/pr/gr/',\n",
       "       'gs://cmip6/CMIP/EC-Earth-Consortium/EC-Earth3-Veg/piControl/r1i1p1f1/Amon/pr/gr/',\n",
       "       'gs://cmip6/CMIP/EC-Earth-Consortium/EC-Earth3/piControl/r1i1p1f1/Amon/pr/gr/',\n",
       "       'gs://cmip6/CMIP/EC-Earth-Consortium/EC-Earth3/piControl/r2i1p1f1/Amon/pr/gr/',\n",
       "       'gs://cmip6/CMIP/HAMMOZ-Consortium/MPI-ESM-1-2-HAM/piControl/r1i1p1f1/Amon/pr/gn/',\n",
       "       'gs://cmip6/CMIP/INM/INM-CM4-8/piControl/r1i1p1f1/Amon/pr/gr1/',\n",
       "       'gs://cmip6/CMIP/INM/INM-CM5-0/piControl/r1i1p1f1/Amon/pr/gr1/',\n",
       "       'gs://cmip6/CMIP/IPSL/IPSL-CM6A-LR/piControl/r1i1p1f1/Amon/pr/gr/',\n",
       "       'gs://cmip6/CMIP/IPSL/IPSL-CM6A-LR/piControl/r1i2p1f1/Amon/pr/gr/',\n",
       "       'gs://cmip6/CMIP/MIROC/MIROC-ES2L/piControl/r1i1p1f2/Amon/pr/gn/',\n",
       "       'gs://cmip6/CMIP/MIROC/MIROC6/piControl/r1i1p1f1/Amon/pr/gn/',\n",
       "       'gs://cmip6/CMIP/MOHC/HadGEM3-GC31-LL/piControl/r1i1p1f1/Amon/pr/gn/',\n",
       "       'gs://cmip6/CMIP/MOHC/HadGEM3-GC31-MM/piControl/r1i1p1f1/Amon/pr/gn/',\n",
       "       'gs://cmip6/CMIP/MOHC/UKESM1-0-LL/piControl/r1i1p1f2/Amon/pr/gn/',\n",
       "       'gs://cmip6/CMIP/MPI-M/MPI-ESM1-2-HR/piControl/r1i1p1f1/Amon/pr/gn/',\n",
       "       'gs://cmip6/CMIP/MPI-M/MPI-ESM1-2-LR/piControl/r1i1p1f1/Amon/pr/gn/',\n",
       "       'gs://cmip6/CMIP/MRI/MRI-ESM2-0/piControl/r1i1p1f1/Amon/pr/gn/',\n",
       "       'gs://cmip6/CMIP/MRI/MRI-ESM2-0/piControl/r1i2p1f1/Amon/pr/gn/',\n",
       "       'gs://cmip6/CMIP/NASA-GISS/GISS-E2-1-G-CC/piControl/r1i1p1f1/Amon/pr/gn/',\n",
       "       'gs://cmip6/CMIP/NASA-GISS/GISS-E2-1-G/piControl/r101i1p1f1/Amon/pr/gn/',\n",
       "       'gs://cmip6/CMIP/NASA-GISS/GISS-E2-1-G/piControl/r102i1p1f1/Amon/pr/gn/',\n",
       "       'gs://cmip6/CMIP/NASA-GISS/GISS-E2-1-G/piControl/r1i1p1f1/Amon/pr/gn/',\n",
       "       'gs://cmip6/CMIP/NASA-GISS/GISS-E2-1-G/piControl/r1i1p1f2/Amon/pr/gn/',\n",
       "       'gs://cmip6/CMIP/NASA-GISS/GISS-E2-1-G/piControl/r1i1p1f3/Amon/pr/gn/',\n",
       "       'gs://cmip6/CMIP/NASA-GISS/GISS-E2-1-G/piControl/r1i1p3f1/Amon/pr/gn/',\n",
       "       'gs://cmip6/CMIP/NASA-GISS/GISS-E2-1-G/piControl/r1i1p5f1/Amon/pr/gn/',\n",
       "       'gs://cmip6/CMIP/NASA-GISS/GISS-E2-1-G/piControl/r2i1p1f1/Amon/pr/gn/',\n",
       "       'gs://cmip6/CMIP/NASA-GISS/GISS-E2-1-H/piControl/r1i1p1f1/Amon/pr/gn/',\n",
       "       'gs://cmip6/CMIP/NASA-GISS/GISS-E2-1-H/piControl/r1i1p3f1/Amon/pr/gn/',\n",
       "       'gs://cmip6/CMIP/NASA-GISS/GISS-E2-2-G/piControl/r1i1p1f1/Amon/pr/gn/',\n",
       "       'gs://cmip6/CMIP/NCAR/CESM2-FV2/piControl/r1i1p1f1/Amon/pr/gn/',\n",
       "       'gs://cmip6/CMIP/NCAR/CESM2-WACCM-FV2/piControl/r1i1p1f1/Amon/pr/gn/',\n",
       "       'gs://cmip6/CMIP/NCAR/CESM2-WACCM/piControl/r1i1p1f1/Amon/pr/gn/',\n",
       "       'gs://cmip6/CMIP/NCAR/CESM2/piControl/r1i1p1f1/Amon/pr/gn/',\n",
       "       'gs://cmip6/CMIP/NCC/NorCPM1/piControl/r1i1p1f1/Amon/pr/gn/',\n",
       "       'gs://cmip6/CMIP/NCC/NorCPM1/piControl/r2i1p1f1/Amon/pr/gn/',\n",
       "       'gs://cmip6/CMIP/NCC/NorCPM1/piControl/r3i1p1f1/Amon/pr/gn/',\n",
       "       'gs://cmip6/CMIP/NCC/NorESM1-F/piControl/r1i1p1f1/Amon/pr/gn/',\n",
       "       'gs://cmip6/CMIP/NCC/NorESM2-LM/piControl/r1i1p1f1/Amon/pr/gn/',\n",
       "       'gs://cmip6/CMIP/NCC/NorESM2-MM/piControl/r1i1p1f1/Amon/pr/gn/',\n",
       "       'gs://cmip6/CMIP/NIMS-KMA/KACE-1-0-G/piControl/r1i1p1f1/Amon/pr/gr/',\n",
       "       'gs://cmip6/CMIP/NOAA-GFDL/GFDL-CM4/piControl/r1i1p1f1/Amon/pr/gr1/',\n",
       "       'gs://cmip6/CMIP/NOAA-GFDL/GFDL-ESM4/piControl/r1i1p1f1/Amon/pr/gr1/',\n",
       "       'gs://cmip6/CMIP/SNU/SAM0-UNICON/piControl/r1i1p1f1/Amon/pr/gn/',\n",
       "       'gs://cmip6/CMIP/THU/CIESM/piControl/r1i1p1f1/Amon/pr/gr/',\n",
       "       'gs://cmip6/CMIP/UA/MCM-UA-1-0/piControl/r1i1p1f1/Amon/pr/gn/'],\n",
       "      dtype=object)"
      ]
     },
     "execution_count": 76,
     "metadata": {},
     "output_type": "execute_result"
    }
   ],
   "source": [
    "search = {'table_id':table_id}\n",
    "search['experiment_id'] = experiments\n",
    "search['variable_id'] = variables\n",
    "if sources != 'All':\n",
    "    search['source_id'] = sources\n",
    "if members != 'All':\n",
    "    search['member_id'] = members\n",
    "    \n",
    "df_available = search_df(df_cloud, **search)\n",
    "\n",
    "print('number of matching datasets',len(df_available))\n",
    "df_available.zstore.values\n",
    "\n",
    "#523 historical simulations < 536 on the cite directly. Do I want to figure out which simulations are missing? \n",
    "# Or do I trust that they are missing for a reason?"
   ]
  },
  {
   "cell_type": "code",
   "execution_count": 77,
   "metadata": {},
   "outputs": [],
   "source": [
    "# For proper debugging, it is helpful to add time grid information to dataframe:\n",
    "if debug:\n",
    "    with warnings.catch_warnings():\n",
    "        warnings.filterwarnings(\"ignore\")\n",
    "        dfa = add_time_info(df_available)\n",
    "else:\n",
    "    dfa = df_available.copy()"
   ]
  },
  {
   "cell_type": "code",
   "execution_count": 78,
   "metadata": {},
   "outputs": [],
   "source": [
    "if debug:\n",
    "    pd.set_option('display.max_rows', 500)\n",
    "    pd.set_option('display.max_columns', 500)\n",
    "    pd.set_option('display.width', 1000)\n",
    "\n",
    "    dm = dfa[['experiment_id','source_id','member_id','variable_id','start','stop']].groupby([\n",
    "             'experiment_id','start','stop','source_id']).nunique()[['member_id']]\n",
    "\n",
    "    table = pd.DataFrame.pivot_table(dm,\n",
    "                                     values='member_id',\n",
    "                                     index=['source_id','start','stop'],\n",
    "                                     columns=['experiment_id'],\n",
    "                                     aggfunc=np.sum,\n",
    "                                     fill_value=0)\n",
    "    print(table)"
   ]
  },
  {
   "cell_type": "code",
   "execution_count": 79,
   "metadata": {},
   "outputs": [
    {
     "data": {
      "text/plain": [
       "array(['none',\n",
       "       'https://errata.es-doc.org/static/view.html?uid=5989ecb4-817e-52a0-ae16-8423cc41fc45',\n",
       "       'https://errata.es-doc.org/static/view.html?uid=f344e136-eddb-e0f5-b5ac-e44b3cd0dc35',\n",
       "       'https://errata.es-doc.org/static/view.html?uid=b6302400-3620-c8f1-999b-d192c0349084'],\n",
       "      dtype=object)"
      ]
     },
     "execution_count": 79,
     "metadata": {},
     "output_type": "execute_result"
    }
   ],
   "source": [
    "dfa.issue_url.unique()"
   ]
  },
  {
   "cell_type": "code",
   "execution_count": 80,
   "metadata": {},
   "outputs": [],
   "source": [
    "fs = gcsfs.GCSFileSystem(token='anon', access='read_only') #the actual files, not the list of files woohoo FILE SYSTEM\n",
    "#fs.get_mapper()"
   ]
  },
  {
   "cell_type": "code",
   "execution_count": 81,
   "metadata": {},
   "outputs": [],
   "source": [
    "def compute_area_and_seasonal_mean(danom, xlim, ylim, slim):\n",
    "    \"\"\"\n",
    "    Weights each grid point by the cos(latitude), computes area mean, normalizing by areaa mean of the weights\n",
    "    returns:\n",
    "        DataArray:  global mean for each model\n",
    "    \"\"\"  \n",
    "    xlim = np.array(xlim)\n",
    "    xlim += (xlim<0 )*360\n",
    "    if xlim[0]>xlim[1]:\n",
    "        lon_sel = (danom.lon>xlim[0])+(danom.lon<xlim[1])\n",
    "    else:\n",
    "        lon_sel = (danom.lon>xlim[0])*danom.lon<xlim[1]\n",
    "        \n",
    "    danom = danom.isel({'lat': (danom.lat>ylim[0])*(danom.lat<ylim[1]), 'lon': lon_sel, 'time': (danom['time'].dt.month >= slim[0])*(danom['time'].dt.month <= slim[1])})\n",
    "    coslat = np.cos(np.deg2rad(danom.lat))\n",
    "    d_ones = xr.ones_like(danom)\n",
    "    weight_mean = (d_ones*coslat).mean(['lat','lon'], keep_attrs=True)\n",
    "    area_mean = (danom * coslat).mean(['lat','lon'], keep_attrs=True)/weight_mean\n",
    "    if area_mean.time.dtype!='datetime64[ns]':\n",
    "        area_mean['time'] = area_mean.indexes['time'].year\n",
    "        return area_mean.groupby('time').mean(dim='time', keep_attrs=True)\n",
    "        #area_mean.indexes['time'].to_datetimeindex()\n",
    "        #there are lots of dftime.DatetimeNoLeap. this would matter a touch if I used a weighted average.\n",
    "    else:   \n",
    "        #month_length = danom.time.dt.days_in_month\n",
    "        #this actually isn't right! Let's just do an unweighted mean for now :(\n",
    "        #weights = month_length/sum(month_length[slim[0]:slim[1]+1])\n",
    "        #Sm = (weights*area_mean)\n",
    "        #return Sm.groupby(grp).sum(dim='time', keep_attrs=True)\n",
    "        return area_mean.groupby(area_mean.time.dt.year).mean(dim='time', keep_attrs=True)"
   ]
  },
  {
   "cell_type": "code",
   "execution_count": 66,
   "metadata": {},
   "outputs": [
    {
     "name": "stdout",
     "output_type": "stream",
     "text": [
      "['/home/rebecca/netcdf/cmip6/piC/pr_SNU_SAM0-UNICON_r1i1p1f1.nc'] already exists\n"
     ]
    }
   ],
   "source": [
    "gsurls = dfa.zstore.values #zstore is the url where the data is stored\n",
    "\n",
    "ds_list = []\n",
    "ds_failed_list = []\n",
    "\n",
    "for gsurl in gsurls:\n",
    "    zdict = get_zdict(gsurl) #naomi func for metadata\n",
    "    institution = zdict['institution_id']\n",
    "    model = zdict['source_id']\n",
    "    run = zdict['member_id']\n",
    "    variable = zdict['variable_id']\n",
    "    filename = f'{variable}_{institution}_{model}_{run}'\n",
    "    \n",
    "    ncfiles = glob(f'{zarr_local}/{filename}.nc') #check not to double-download files\n",
    "    if len(ncfiles) > 0:\n",
    "        print(ncfiles, 'already exists')\n",
    "        #continue\n",
    "        \n",
    "    with warnings.catch_warnings():\n",
    "        warnings.filterwarnings(\"ignore\")\n",
    "        ds = xr.open_zarr(fs.get_mapper(gsurl),consolidated=True) #gets info about the file. get_mapper! always use consolidated=True\n",
    "\n",
    "    #month_length = ds.time.dt.days_in_month #for some reason the first one doesn't have this...\n",
    "        \n",
    "    for var in [var for var in ds.coords]:\n",
    "        if 'bounds' in var:\n",
    "            nvar = var.replace('bounds','bnds')\n",
    "            #print(var,nvar)\n",
    "            ds = ds.rename({var:nvar})\n",
    "        if 'latitude' in var:\n",
    "            nvar = var.replace('latitude','lat')\n",
    "            #print(var,nvar)\n",
    "            ds = ds.rename({var:nvar})\n",
    "        if 'longitude' in var:\n",
    "            nvar = var.replace('longitude','lon')\n",
    "            #print(var,nvar)\n",
    "            ds = ds.rename({var:nvar})\n",
    "    \n",
    "    units = ds.pr.attrs['units']\n",
    "    try:\n",
    "        Sm = compute_area_and_seasonal_mean(ds, [-20,40], [12,18], [7,9])\n",
    "    except ValueError:\n",
    "        print(ds)\n",
    "        ds_failed_list += [ds]\n",
    "        continue\n",
    "    \n",
    "    if units=='kg m-2 s-1':\n",
    "        Sm *= 86400\n",
    "        ncfile = f'{zarr_local}/{filename}.nc'\n",
    "        #os.system(f'mkdir -p {ncdir}')\n",
    "        try:\n",
    "            Sm.to_netcdf(ncfile,mode='w',unlimited_dims='time')  #saves the file. Don't have to do this before I'm ready! But ds is replaced each time...\n",
    "            ds_list += [Sm]\n",
    "        except ValueError:\n",
    "            print(Sm)\n",
    "            ds_failed_list += [Sm]\n",
    "            continue    \n",
    "    else:\n",
    "        print(\"skipping model {}\".format(model))\n",
    "        \n",
    "    #ok I got an error for a model which uses i/j coordinates instead of lat lon! OY VEY...\n",
    "    "
   ]
  },
  {
   "cell_type": "code",
   "execution_count": 102,
   "metadata": {},
   "outputs": [
    {
     "data": {
      "text/plain": [
       "<xarray.Dataset>\n",
       "Dimensions:  (time: 700)\n",
       "Coordinates:\n",
       "  * time     (time) int64 1 2 3 4 5 6 7 8 9 ... 693 694 695 696 697 698 699 700\n",
       "Data variables:\n",
       "    pr       (time) float64 dask.array<chunksize=(1,), meta=np.ndarray>"
      ]
     },
     "execution_count": 102,
     "metadata": {},
     "output_type": "execute_result"
    }
   ],
   "source": [
    "gsurls = dfa.zstore.values #zstore is the url where the data is stored\n",
    "zdict = get_zdict(gsurls[0])\n",
    "\n",
    "with warnings.catch_warnings():\n",
    "    warnings.filterwarnings(\"ignore\")\n",
    "    ds = xr.open_zarr(fs.get_mapper(gsurl),consolidated=True) #gets info about the file. get_mapper! always use consolidated=True\n",
    "    \n",
    "        \n",
    "for var in [var for var in ds.coords]:\n",
    "    if 'bounds' in var:\n",
    "        nvar = var.replace('bounds','bnds')\n",
    "        #print(var,nvar)\n",
    "        ds = ds.rename({var:nvar})\n",
    "    if 'latitude' in var:\n",
    "        nvar = var.replace('latitude','lat')\n",
    "        #print(var,nvar)\n",
    "        ds = ds.rename({var:nvar})\n",
    "    if 'longitude' in var:\n",
    "        nvar = var.replace('longitude','lon')\n",
    "        #print(var,nvar)\n",
    "        ds = ds.rename({var:nvar})\n",
    "\n",
    "xlim = [-20,40];\n",
    "ylim = [12,18];\n",
    "slim = [7,9];\n",
    "\n",
    "xlim = np.array(xlim)\n",
    "xlim += (xlim<0 )*360\n",
    "if xlim[0]>xlim[1]:\n",
    "    lon_sel = (ds.lon>xlim[0])+(ds.lon<xlim[1])\n",
    "else:\n",
    "    lon_sel = (ds.lon>xlim[0])*ds.lon<xlim[1]\n",
    "\n",
    "ds = ds.isel({'lat': (ds.lat>ylim[0])*(ds.lat<ylim[1]), 'lon': lon_sel, 'time': (ds['time'].dt.month >= slim[0])*(ds['time'].dt.month <= slim[1])})\n",
    "\n",
    "coslat = np.cos(np.deg2rad(ds.lat))\n",
    "d_ones = xr.ones_like(ds)\n",
    "weight_mean = (d_ones*coslat).mean(['lat','lon'], keep_attrs=True)\n",
    "area_mean = (ds * coslat).mean(['lat','lon'], keep_attrs=True)/weight_mean\n",
    "\n",
    "area_mean['time'] = area_mean.indexes['time'].year\n",
    "area_mean.groupby('time').mean(dim='time', keep_attrs=True)"
   ]
  },
  {
   "cell_type": "code",
   "execution_count": 72,
   "metadata": {},
   "outputs": [
    {
     "data": {
      "text/plain": [
       "array([[3.65723894, 5.14836829, 4.57774904, ..., 4.29130182, 4.80161623,\n",
       "        4.92694754],\n",
       "       [3.65723894, 5.14836829, 4.57774904, ..., 4.29130182, 4.80161623,\n",
       "        4.92694754],\n",
       "       [3.65723894, 5.14836829, 4.57774904, ..., 4.29130182, 4.80161623,\n",
       "        4.92694754],\n",
       "       ...,\n",
       "       [3.65723894, 5.14836829, 4.57774904, ..., 4.29130182, 4.80161623,\n",
       "        4.92694754],\n",
       "       [3.65723894, 5.14836829, 4.57774904, ..., 4.29130182, 4.80161623,\n",
       "        4.92694754],\n",
       "       [3.65723894, 5.14836829, 4.57774904, ..., 4.29130182, 4.80161623,\n",
       "        4.92694754]])"
      ]
     },
     "execution_count": 72,
     "metadata": {},
     "output_type": "execute_result"
    }
   ],
   "source": [
    "Sm.pr.values"
   ]
  },
  {
   "cell_type": "code",
   "execution_count": null,
   "metadata": {},
   "outputs": [],
   "source": [
    "xr.concat(ds_list, dim='dataset') #this isn't working bc different variables. Exist other ways to combine."
   ]
  },
  {
   "cell_type": "code",
   "execution_count": null,
   "metadata": {},
   "outputs": [],
   "source": [
    "#regridding: xesmf (earth system modelling federation). works for lat-lon, but not time."
   ]
  },
  {
   "cell_type": "code",
   "execution_count": null,
   "metadata": {},
   "outputs": [],
   "source": [
    "from matplotlib import pyplot as plt\n",
    "%matplotlib inline\n",
    "plt.rcParams['figure.figsize'] = (8,5)\n",
    "\n",
    "ds.tas[0].plot()"
   ]
  },
  {
   "cell_type": "code",
   "execution_count": null,
   "metadata": {},
   "outputs": [],
   "source": [
    "! tree -L 9 ~/CMIP6-downloads #unix tree of created files; I didn't create any."
   ]
  },
  {
   "cell_type": "code",
   "execution_count": null,
   "metadata": {},
   "outputs": [],
   "source": [
    "! du -sh ~/CMIP6-downloads/*/*/*/*"
   ]
  },
  {
   "cell_type": "code",
   "execution_count": null,
   "metadata": {},
   "outputs": [],
   "source": [
    "ds = xr.open_dataset('/home/naomi/CMIP6-downloads/CMIP/NCAR/CESM2/historical/r1i1p1f1/Amon/sfcWind/gn/sfcWind.nc')"
   ]
  },
  {
   "cell_type": "code",
   "execution_count": null,
   "metadata": {},
   "outputs": [],
   "source": [
    "ds.sfcWind.plot(vmin=0,vmax=12)"
   ]
  },
  {
   "cell_type": "code",
   "execution_count": null,
   "metadata": {},
   "outputs": [],
   "source": [
    "#Convert longitude coordinates from 0-359 to -180-179:\n",
    "\n",
    "ds2 = ds.assign_coords(lon=(((ds.lon + 180) % 360) - 180)).sortby('lon')\n",
    "\n",
    "#or\n",
    "\n",
    "ds.coords['lon'] = (ds.coords['lon'] + 180) % 360 - 180\n",
    "ds = ds.sortby(ds.lon)"
   ]
  },
  {
   "cell_type": "code",
   "execution_count": null,
   "metadata": {},
   "outputs": [],
   "source": [
    "ds2.sfcWind[0].plot()"
   ]
  },
  {
   "cell_type": "code",
   "execution_count": null,
   "metadata": {},
   "outputs": [],
   "source": []
  }
 ],
 "metadata": {
  "kernelspec": {
   "display_name": "myPython3.6",
   "language": "python",
   "name": "my3.6"
  },
  "language_info": {
   "codemirror_mode": {
    "name": "ipython",
    "version": 3
   },
   "file_extension": ".py",
   "mimetype": "text/x-python",
   "name": "python",
   "nbconvert_exporter": "python",
   "pygments_lexer": "ipython3",
   "version": "3.6.6"
  }
 },
 "nbformat": 4,
 "nbformat_minor": 4
}
