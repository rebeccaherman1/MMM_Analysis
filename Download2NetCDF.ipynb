{
 "cells": [
  {
   "cell_type": "markdown",
   "metadata": {},
   "source": [
    "### Directly Download from GC and save as netcdf files\n",
    "- This is for those who cannot use zarr/python for processing the CMIP6 datasets\n",
    "- Please note that the netcdf files have CF-compliant time grids, but might not be what you are used to"
   ]
  },
  {
   "cell_type": "code",
   "execution_count": 468,
   "metadata": {},
   "outputs": [],
   "source": [
    "import numpy as np\n",
    "import pandas as pd\n",
    "import os\n",
    "import gcsfs #google cloud file system. \n",
    "import xarray as xr\n",
    "import warnings\n",
    "from glob import glob # use * !\n",
    "import scipy.io as sio\n",
    "import xesmf as xe\n",
    "\n",
    "from matplotlib import pyplot as plt\n",
    "%matplotlib inline\n",
    "plt.rcParams['figure.figsize'] = (8,5)"
   ]
  },
  {
   "cell_type": "code",
   "execution_count": 469,
   "metadata": {},
   "outputs": [],
   "source": [
    "from utls import search_df, add_time_info, get_zdict #extra functions"
   ]
  },
  {
   "cell_type": "markdown",
   "metadata": {},
   "source": [
    "### Initialization"
   ]
  },
  {
   "cell_type": "code",
   "execution_count": 470,
   "metadata": {},
   "outputs": [],
   "source": [
    "def compute_area_and_seasonal_mean(danom, xlim, ylim, slim, mask=1):\n",
    "    \"\"\"\n",
    "    Weights each grid point by the cos(latitude), computes area mean, normalizing by areaa mean of the weights\n",
    "    returns:\n",
    "        DataArray:  global mean for each model\n",
    "        Here I'm making the xlims strictly positive\n",
    "    \"\"\"  \n",
    "    danom = compute_seasonal_mean(danom, slim)\n",
    "    danom = compute_area_mean(danom, xlim, ylim, mask)\n",
    "    return danom\n",
    "    \n",
    "plev19 = [100000, 92500, 85000, 70000, 60000, 50000, 40000, 30000, 25000, 20000, 15000, 10000, 7000, 5000, 3000, 2000, 1000, 500, 100]\n",
    "plev19_bnds = [100000,95000,90000,75000,65000,55000,45000,35000,27000,23000,17000,12500,8500,6500,4000,2500,1500,700,300,100]"
   ]
  },
  {
   "cell_type": "code",
   "execution_count": 471,
   "metadata": {},
   "outputs": [],
   "source": [
    "def compute_area_mean(danom, xlim, ylim, mask=1):\n",
    "    xlim = np.array(xlim)\n",
    "    xlim += (xlim<0 )*360\n",
    "    lon = danom.lon + (danom.lon < 0)*360\n",
    "    if xlim[0]>xlim[1]:\n",
    "        lon_sel = (lon>=xlim[0])+(lon<xlim[1])\n",
    "    else:\n",
    "        #this was previously wrong only when xlim was fully positive or negative -- missing parentheses\n",
    "        lon_sel = (lon>=xlim[0])*(lon<xlim[1])\n",
    "    danom = apply_mask(danom, mask)\n",
    "    danom = danom.isel({'lat': (danom.lat>=ylim[0])*(danom.lat<ylim[1]), \n",
    "                        'lon': lon_sel,\n",
    "                       })\n",
    "    coslat = np.cos(np.deg2rad(danom.lat))\n",
    "    weights = xr.ones_like(danom)*coslat\n",
    "    weight_mean = weights.mean(['lat','lon'])#, keep_attrs=True, 'plev', 'time'\n",
    "    area_mean = (danom * weights).mean(['lat','lon'], keep_attrs=True, skipna = True)#\n",
    "    return area_mean/weight_mean"
   ]
  },
  {
   "cell_type": "code",
   "execution_count": 472,
   "metadata": {},
   "outputs": [],
   "source": [
    "def apply_mask(danom, mask=1):\n",
    "    if type(mask)!=int:\n",
    "        mask = (xr.ones_like(danom)*mask)\n",
    "        danom = danom.where(mask==1)\n",
    "    return danom"
   ]
  },
  {
   "cell_type": "code",
   "execution_count": 473,
   "metadata": {},
   "outputs": [],
   "source": [
    "def compute_seasonal_mean(danom, slim, mask=1): \n",
    "    danom = apply_mask(danom, mask)\n",
    "    danom = danom.isel({\n",
    "                    'time': (danom['time'].dt.month >= slim[0])*(danom['time'].dt.month <= slim[1])\n",
    "                   })\n",
    "    if not hasattr(danom.time, 'dt'):\n",
    "        danom['time'] = danom.indexes['time'].year\n",
    "        return danom.groupby('time').mean(dim='time', keep_attrs=True)\n",
    "    else:   \n",
    "        return danom.groupby(danom.time.dt.year).mean(dim='time', keep_attrs=True)\n",
    "    \n",
    "    #technically this is inconsistent handling; one makes a dimension called \"time\" and the other makes \"years\". I have to deal with that in my matlab code"
   ]
  },
  {
   "cell_type": "code",
   "execution_count": 474,
   "metadata": {},
   "outputs": [],
   "source": [
    "#danom = ds0\n",
    "\n",
    "#xlim = [-20,40]\n",
    "#ylim = [12,18]\n",
    "#slim = [7,9]\n",
    "def calc_stp(dl):\n",
    "    l = dl.values\n",
    "    stp = max(l[1:] - l[0:-1])\n",
    "    return stp\n",
    "\n",
    "def compute_conv(danom, xlim, ylim, slim, plim):\n",
    "    \"\"\"\n",
    "    Calculates the mean flow convergence of moisture on monthly scale into the Sahel region.\n",
    "    returns convergence at each pressure level. add pressure level ranges to integrate over.\n",
    "    \"\"\"  \n",
    "    xlim = np.array(xlim)\n",
    "    xlim += (xlim<0)*360\n",
    "    lt_stp = calc_stp(danom.lat)\n",
    "    ln_stp = calc_stp(danom.lon)\n",
    "    if xlim[0]>xlim[1]:\n",
    "        lon_sel_2 = (danom.lon>(xlim[0]-ln_stp))+(danom.lon<(xlim[1]+ln_stp))\n",
    "    else:\n",
    "        lon_sel_2 = (danom.lon>(xlim[0]-ln_stp))*(danom.lon<(xlim+ln_stp))\n",
    "\n",
    "    danom = danom.isel({'time': (danom['time'].dt.month >= slim[0])*(danom['time'].dt.month <= slim[1]),\n",
    "                         'lat': (danom.lat>(ylim[0]-lt_stp))*(danom.lat<(ylim[1]+lt_stp)),\n",
    "                         'lon': lon_sel_2,\n",
    "                         'plev': danom.plev==plim #when I can figure out the bounds change this to an integral\n",
    "                       })\n",
    "    danom['qfu'] = danom['hus']*danom['ua']\n",
    "    danom['qfv'] = danom['hus']*danom['va']\n",
    "    if xlim[0]>xlim[1]:\n",
    "        lon_sel = (danom.lon>xlim[0])+(danom.lon<xlim[1])\n",
    "    else:\n",
    "        lon_sel = (danom.lon>xlim[0])*danom.lon<xlim[1]\n",
    "    lat_sel = (danom.lat>ylim[0])*(danom.lat<ylim[1])\n",
    "    danom.load()\n",
    "    dS = danom['qfv'].isel({'lat': danom.lat<(ylim[0]+lt_stp), 'lon': lon_sel}).mean(['lat'], keep_attrs=True)\n",
    "    dN = -danom['qfv'].isel({'lat': danom.lat>(ylim[1]-lt_stp), 'lon': lon_sel}).mean(['lat'], keep_attrs=True)\n",
    "    dW = danom['qfu'].isel({'lat': lat_sel, 'lon': danom.lon<(xlim[0]+ln_stp)}).mean(['lon'], keep_attrs=True)\n",
    "    dE = -danom['qfu'].isel({'lat': lat_sel, 'lon': danom.lon>(xlim[1]-ln_stp)}).mean(['lon'], keep_attrs=True)\n",
    "    coslat = np.cos(np.deg2rad(ylim))\n",
    "    d_conv = (coslat[0]*dS + coslat[1]*dN).sum(['lon'], keep_attrs=True)+(dW+dE).sum(['lat'], keep_attrs=True)\n",
    "    if d_conv.time.dtype!='datetime64[ns]':\n",
    "        d_conv['time'] = d_conv.indexes['time'].year\n",
    "        return d_conv.groupby('time').mean(dim='time', keep_attrs=True)\n",
    "    else:   \n",
    "        return d_conv.groupby(d_conv.time.dt.year).mean(dim='time', keep_attrs=True)"
   ]
  },
  {
   "cell_type": "code",
   "execution_count": 523,
   "metadata": {},
   "outputs": [],
   "source": [
    "def update_vars(ds):\n",
    "    for var in [var for var in ds.coords]:\n",
    "        if 'bounds' in var:\n",
    "            nvar = var.replace('bounds','bnds')\n",
    "            #print(var,nvar)\n",
    "            ds = ds.rename({var:nvar})\n",
    "        if 'latitude' in var:\n",
    "            nvar = var.replace('latitude','lat')\n",
    "            #print(var,nvar)\n",
    "            ds = ds.rename({var:nvar})\n",
    "        if 'longitude' in var:\n",
    "            nvar = var.replace('longitude','lon')\n",
    "            #print(var,nvar)\n",
    "            ds = ds.rename({var:nvar})\n",
    "        if 'x' in var:\n",
    "            nvar = var.replace('x', 'lon')\n",
    "            ds = ds.rename({var:nvar})\n",
    "        if 'y' in var:\n",
    "            nvar = var.replace('y', 'lat')\n",
    "            ds = ds.rename({var:nvar})\n",
    "        if 'T' in var:\n",
    "            nvar = var.replace('T', 'time')\n",
    "            ds = ds.rename({var:nvar}) \n",
    "            \n",
    "    if ('time' in ds.coords) and (not hasattr(ds.time.values[0], 'year')) and (not 'time' in str(type(ds0.T.values[0]))) and (not '64' in str(type(ds0.T.values[0]))):\n",
    "        if not ds.time.calendar == '360' or not ds.time.attrs['units'].split()[0]=='months':\n",
    "            print('cannot comprehend calendar: ', ds.time.calendar)\n",
    "        else:\n",
    "            ds['time'] = pd.to_datetime(ds.time*365.2422/12, unit='D', origin=np.datetime64(ds.time.attrs['units'].split()[-1]))\n",
    "            \n",
    "    return ds"
   ]
  },
  {
   "cell_type": "code",
   "execution_count": 476,
   "metadata": {},
   "outputs": [],
   "source": [
    "# Where to write local netcdf files:\n",
    "username = os.environ['JUPYTERHUB_USER']\n",
    "mach = os.uname()[1]\n",
    "\n",
    "#make a cmip5 file for checking that\n",
    "zarr_local = f'/home/{username}/netcdf'\n",
    "if not os.path.exists(zarr_local):\n",
    "    print(f'Please create the directory {zarr_local}')\n",
    "    "
   ]
  },
  {
   "cell_type": "code",
   "execution_count": 477,
   "metadata": {},
   "outputs": [
    {
     "data": {
      "text/html": [
       "<div>\n",
       "<style scoped>\n",
       "    .dataframe tbody tr th:only-of-type {\n",
       "        vertical-align: middle;\n",
       "    }\n",
       "\n",
       "    .dataframe tbody tr th {\n",
       "        vertical-align: top;\n",
       "    }\n",
       "\n",
       "    .dataframe thead th {\n",
       "        text-align: right;\n",
       "    }\n",
       "</style>\n",
       "<table border=\"1\" class=\"dataframe\">\n",
       "  <thead>\n",
       "    <tr style=\"text-align: right;\">\n",
       "      <th></th>\n",
       "      <th>activity_id</th>\n",
       "      <th>organization</th>\n",
       "      <th>experiment_id</th>\n",
       "      <th>var_domain</th>\n",
       "      <th>table_id</th>\n",
       "      <th>variable_id</th>\n",
       "      <th>source_id</th>\n",
       "      <th>member_id</th>\n",
       "      <th>fname</th>\n",
       "      <th>grid_label</th>\n",
       "      <th>zstore</th>\n",
       "      <th>institution_id</th>\n",
       "    </tr>\n",
       "  </thead>\n",
       "  <tbody>\n",
       "    <tr>\n",
       "      <th>323</th>\n",
       "      <td>CMIP5</td>\n",
       "      <td>byScenario</td>\n",
       "      <td>NA</td>\n",
       "      <td>atmos</td>\n",
       "      <td>fixed</td>\n",
       "      <td>sftlf</td>\n",
       "      <td>MRI-AGCM3-2S</td>\n",
       "      <td>NA</td>\n",
       "      <td>sftlf.nc</td>\n",
       "      <td>NA</td>\n",
       "      <td>http://strega.ldeo.columbia.edu:81/CMIP5/.bySc...</td>\n",
       "      <td>MRI</td>\n",
       "    </tr>\n",
       "    <tr>\n",
       "      <th>324</th>\n",
       "      <td>CMIP5</td>\n",
       "      <td>byScenario</td>\n",
       "      <td>NA</td>\n",
       "      <td>atmos</td>\n",
       "      <td>fixed</td>\n",
       "      <td>sftlf</td>\n",
       "      <td>MRI-CGCM3</td>\n",
       "      <td>NA</td>\n",
       "      <td>sftlf.nc</td>\n",
       "      <td>NA</td>\n",
       "      <td>http://strega.ldeo.columbia.edu:81/CMIP5/.bySc...</td>\n",
       "      <td>MRI</td>\n",
       "    </tr>\n",
       "    <tr>\n",
       "      <th>325</th>\n",
       "      <td>CMIP5</td>\n",
       "      <td>byScenario</td>\n",
       "      <td>NA</td>\n",
       "      <td>atmos</td>\n",
       "      <td>fixed</td>\n",
       "      <td>sftlf</td>\n",
       "      <td>MRI-ESM1</td>\n",
       "      <td>NA</td>\n",
       "      <td>sftlf.nc</td>\n",
       "      <td>NA</td>\n",
       "      <td>http://strega.ldeo.columbia.edu:81/CMIP5/.bySc...</td>\n",
       "      <td>MRI</td>\n",
       "    </tr>\n",
       "    <tr>\n",
       "      <th>326</th>\n",
       "      <td>CMIP5</td>\n",
       "      <td>byScenario</td>\n",
       "      <td>NA</td>\n",
       "      <td>atmos</td>\n",
       "      <td>fixed</td>\n",
       "      <td>sftlf</td>\n",
       "      <td>NorESM1-M</td>\n",
       "      <td>NA</td>\n",
       "      <td>sftlf.nc</td>\n",
       "      <td>NA</td>\n",
       "      <td>http://strega.ldeo.columbia.edu:81/CMIP5/.bySc...</td>\n",
       "      <td>Nor</td>\n",
       "    </tr>\n",
       "    <tr>\n",
       "      <th>327</th>\n",
       "      <td>CMIP5</td>\n",
       "      <td>byScenario</td>\n",
       "      <td>NA</td>\n",
       "      <td>atmos</td>\n",
       "      <td>fixed</td>\n",
       "      <td>sftlf</td>\n",
       "      <td>NorESM1-ME</td>\n",
       "      <td>NA</td>\n",
       "      <td>sftlf.nc</td>\n",
       "      <td>NA</td>\n",
       "      <td>http://strega.ldeo.columbia.edu:81/CMIP5/.bySc...</td>\n",
       "      <td>Nor</td>\n",
       "    </tr>\n",
       "  </tbody>\n",
       "</table>\n",
       "</div>"
      ],
      "text/plain": [
       "    activity_id organization experiment_id var_domain table_id variable_id  \\\n",
       "323       CMIP5   byScenario            NA      atmos    fixed       sftlf   \n",
       "324       CMIP5   byScenario            NA      atmos    fixed       sftlf   \n",
       "325       CMIP5   byScenario            NA      atmos    fixed       sftlf   \n",
       "326       CMIP5   byScenario            NA      atmos    fixed       sftlf   \n",
       "327       CMIP5   byScenario            NA      atmos    fixed       sftlf   \n",
       "\n",
       "        source_id member_id     fname grid_label  \\\n",
       "323  MRI-AGCM3-2S        NA  sftlf.nc         NA   \n",
       "324     MRI-CGCM3        NA  sftlf.nc         NA   \n",
       "325      MRI-ESM1        NA  sftlf.nc         NA   \n",
       "326     NorESM1-M        NA  sftlf.nc         NA   \n",
       "327    NorESM1-ME        NA  sftlf.nc         NA   \n",
       "\n",
       "                                                zstore institution_id  \n",
       "323  http://strega.ldeo.columbia.edu:81/CMIP5/.bySc...            MRI  \n",
       "324  http://strega.ldeo.columbia.edu:81/CMIP5/.bySc...            MRI  \n",
       "325  http://strega.ldeo.columbia.edu:81/CMIP5/.bySc...            MRI  \n",
       "326  http://strega.ldeo.columbia.edu:81/CMIP5/.bySc...            Nor  \n",
       "327  http://strega.ldeo.columbia.edu:81/CMIP5/.bySc...            Nor  "
      ]
     },
     "execution_count": 477,
     "metadata": {},
     "output_type": "execute_result"
    }
   ],
   "source": [
    "# This is the master CMIP6 Google Cloud catalog\n",
    "cmip5 = True\n",
    "\n",
    "if not cmip5:\n",
    "    df_cloud = pd.read_csv('https://cmip6.storage.googleapis.com/cmip6-zarr-consolidated-stores-noQC.csv', dtype='unicode')\n",
    "else:\n",
    "    #df_cloud = pd.read_csv('https://cmip6.storage.googleapis.com/pangeo-cmip5.csv', dtype='unicode')\n",
    "    df_cloud = pd.read_csv('strega_cmip5.csv', dtype='unicode')\n",
    "    df_cloud.fillna('NA', inplace=True)\n",
    "    \n",
    "df_cloud.tail()"
   ]
  },
  {
   "cell_type": "markdown",
   "metadata": {},
   "source": [
    "### Choose basic configuration parameters"
   ]
  },
  {
   "cell_type": "code",
   "execution_count": 480,
   "metadata": {},
   "outputs": [],
   "source": [
    "# Here we search the CMIP6 data for the datasets you need - using the same keywords as at the ESGF sites\n",
    "#       https://esgf-node.llnl.gov/search/cmip6/\n",
    "\n",
    "debug = False\n",
    "\n",
    "# must choose ONE table_id  (only works for *mon or *day)\n",
    "if cmip5:\n",
    "    table_id = 'mon'\n",
    "else:\n",
    "    table_id = 'Amon'\n",
    "\n",
    "#must choose LIST of experiments, variables\n",
    "experiments = ['historical']#'hist-aer','hist-nat', 'hist-GHG']#, , 'piControl']# 'amip-hist', ]#\n",
    "variables = ['ts']#'ua', 'va', 'hus'] #'zg', 'ta', 'hus', 'evspsbl', 'pr' #ts, #evspsbl, siconc\n",
    "\n",
    "location = 'Ocean'#'Sahel'#\n",
    "\n",
    "# can specify 'All' or give a list or string\n",
    "#sources = ['NorESM2-LM', 'NorESM2-MM']#'EC-Earth3-LR']#'CAS-ESM2-0','IPSL-CM5A2-INCA','EC-Earth3-CC']\n",
    "sources = 'All'\n",
    "#members = ['r1i1p1f1']#'r9i1p1f2']#r3i1p1f1']#\n",
    "members = 'All'"
   ]
  },
  {
   "cell_type": "code",
   "execution_count": 603,
   "metadata": {},
   "outputs": [
    {
     "name": "stdout",
     "output_type": "stream",
     "text": [
      "number of matching datasets 187\n"
     ]
    }
   ],
   "source": [
    "search = {'table_id':table_id}\n",
    "search['experiment_id'] = experiments\n",
    "search['variable_id'] = variables\n",
    "if sources != 'All':\n",
    "    search['source_id'] = sources\n",
    "if members != 'All':\n",
    "    search['member_id'] = members\n",
    "    \n",
    "df_available = search_df(df_cloud, **search)\n",
    "\n",
    "print('number of matching datasets',len(df_available))\n",
    "\n",
    "#523 historical simulations < 536 on the cite directly. Do I want to figure out which simulations are missing? \n",
    "# Or do I trust that they are missing for a reason?"
   ]
  },
  {
   "cell_type": "code",
   "execution_count": 604,
   "metadata": {},
   "outputs": [
    {
     "data": {
      "text/html": [
       "<div>\n",
       "<style scoped>\n",
       "    .dataframe tbody tr th:only-of-type {\n",
       "        vertical-align: middle;\n",
       "    }\n",
       "\n",
       "    .dataframe tbody tr th {\n",
       "        vertical-align: top;\n",
       "    }\n",
       "\n",
       "    .dataframe thead th {\n",
       "        text-align: right;\n",
       "    }\n",
       "</style>\n",
       "<table border=\"1\" class=\"dataframe\">\n",
       "  <thead>\n",
       "    <tr style=\"text-align: right;\">\n",
       "      <th></th>\n",
       "      <th>activity_id</th>\n",
       "      <th>organization</th>\n",
       "      <th>experiment_id</th>\n",
       "      <th>var_domain</th>\n",
       "      <th>table_id</th>\n",
       "      <th>variable_id</th>\n",
       "      <th>source_id</th>\n",
       "      <th>member_id</th>\n",
       "      <th>fname</th>\n",
       "      <th>grid_label</th>\n",
       "      <th>zstore</th>\n",
       "      <th>institution_id</th>\n",
       "    </tr>\n",
       "  </thead>\n",
       "  <tbody>\n",
       "    <tr>\n",
       "      <th>0</th>\n",
       "      <td>CMIP5</td>\n",
       "      <td>byScenario</td>\n",
       "      <td>historical</td>\n",
       "      <td>atmos</td>\n",
       "      <td>mon</td>\n",
       "      <td>ts</td>\n",
       "      <td>ACCESS1-0</td>\n",
       "      <td>r1i1p1</td>\n",
       "      <td>NA</td>\n",
       "      <td>NA</td>\n",
       "      <td>http://strega.ldeo.columbia.edu:81/CMIP5/.bySc...</td>\n",
       "      <td>ACCESS</td>\n",
       "    </tr>\n",
       "    <tr>\n",
       "      <th>1</th>\n",
       "      <td>CMIP5</td>\n",
       "      <td>byScenario</td>\n",
       "      <td>historical</td>\n",
       "      <td>atmos</td>\n",
       "      <td>mon</td>\n",
       "      <td>ts</td>\n",
       "      <td>ACCESS1-3</td>\n",
       "      <td>r1i1p1</td>\n",
       "      <td>NA</td>\n",
       "      <td>NA</td>\n",
       "      <td>http://strega.ldeo.columbia.edu:81/CMIP5/.bySc...</td>\n",
       "      <td>ACCESS</td>\n",
       "    </tr>\n",
       "    <tr>\n",
       "      <th>2</th>\n",
       "      <td>CMIP5</td>\n",
       "      <td>byScenario</td>\n",
       "      <td>historical</td>\n",
       "      <td>atmos</td>\n",
       "      <td>mon</td>\n",
       "      <td>ts</td>\n",
       "      <td>bcc-csm1-1</td>\n",
       "      <td>r2i1p1</td>\n",
       "      <td>NA</td>\n",
       "      <td>NA</td>\n",
       "      <td>http://strega.ldeo.columbia.edu:81/CMIP5/.bySc...</td>\n",
       "      <td>bcc</td>\n",
       "    </tr>\n",
       "    <tr>\n",
       "      <th>3</th>\n",
       "      <td>CMIP5</td>\n",
       "      <td>byScenario</td>\n",
       "      <td>historical</td>\n",
       "      <td>atmos</td>\n",
       "      <td>mon</td>\n",
       "      <td>ts</td>\n",
       "      <td>bcc-csm1-1</td>\n",
       "      <td>r1i1p1</td>\n",
       "      <td>NA</td>\n",
       "      <td>NA</td>\n",
       "      <td>http://strega.ldeo.columbia.edu:81/CMIP5/.bySc...</td>\n",
       "      <td>bcc</td>\n",
       "    </tr>\n",
       "    <tr>\n",
       "      <th>4</th>\n",
       "      <td>CMIP5</td>\n",
       "      <td>byScenario</td>\n",
       "      <td>historical</td>\n",
       "      <td>atmos</td>\n",
       "      <td>mon</td>\n",
       "      <td>ts</td>\n",
       "      <td>bcc-csm1-1</td>\n",
       "      <td>r3i1p1</td>\n",
       "      <td>NA</td>\n",
       "      <td>NA</td>\n",
       "      <td>http://strega.ldeo.columbia.edu:81/CMIP5/.bySc...</td>\n",
       "      <td>bcc</td>\n",
       "    </tr>\n",
       "  </tbody>\n",
       "</table>\n",
       "</div>"
      ],
      "text/plain": [
       "  activity_id organization experiment_id var_domain table_id variable_id  \\\n",
       "0       CMIP5   byScenario    historical      atmos      mon          ts   \n",
       "1       CMIP5   byScenario    historical      atmos      mon          ts   \n",
       "2       CMIP5   byScenario    historical      atmos      mon          ts   \n",
       "3       CMIP5   byScenario    historical      atmos      mon          ts   \n",
       "4       CMIP5   byScenario    historical      atmos      mon          ts   \n",
       "\n",
       "    source_id member_id fname grid_label  \\\n",
       "0   ACCESS1-0    r1i1p1    NA         NA   \n",
       "1   ACCESS1-3    r1i1p1    NA         NA   \n",
       "2  bcc-csm1-1    r2i1p1    NA         NA   \n",
       "3  bcc-csm1-1    r1i1p1    NA         NA   \n",
       "4  bcc-csm1-1    r3i1p1    NA         NA   \n",
       "\n",
       "                                              zstore institution_id  \n",
       "0  http://strega.ldeo.columbia.edu:81/CMIP5/.bySc...         ACCESS  \n",
       "1  http://strega.ldeo.columbia.edu:81/CMIP5/.bySc...         ACCESS  \n",
       "2  http://strega.ldeo.columbia.edu:81/CMIP5/.bySc...            bcc  \n",
       "3  http://strega.ldeo.columbia.edu:81/CMIP5/.bySc...            bcc  \n",
       "4  http://strega.ldeo.columbia.edu:81/CMIP5/.bySc...            bcc  "
      ]
     },
     "execution_count": 604,
     "metadata": {},
     "output_type": "execute_result"
    }
   ],
   "source": [
    "df_available.head()"
   ]
  },
  {
   "cell_type": "code",
   "execution_count": 619,
   "metadata": {},
   "outputs": [
    {
     "name": "stdout",
     "output_type": "stream",
     "text": [
      "number of mask datasets 55\n"
     ]
    }
   ],
   "source": [
    "#only use the MASK code for TS!\n",
    "if location=='Ocean':\n",
    "    style = 'institution'#'source' #\n",
    "    style_id = style+'_id'\n",
    "    \n",
    "    if(df_available.activity_id.values[0]=='CMIP5'):\n",
    "        search_mask = {'table_id':'fixed'}#'SImon'}#\n",
    "    else:\n",
    "        search_mask = {'table_id':'fx'}#'SImon'}#\n",
    "        \n",
    "    search_mask['experiment_id'] = ['historical', 'piControl', '1pctCO2','hist-resIPO','hist-1950HC', 'NA']#'abrupt-4xCO2']#\n",
    "    search_mask['variable_id'] = ['sftlf','siconc']\n",
    "    if sources != 'All' and style=='source':\n",
    "        search_mask['source_id'] = sources#['CESM1-CAM5']#\n",
    "    if members != 'All':\n",
    "        search_mask['member_id'] = members\n",
    "    historical_mask = search_df(df_cloud, **search_mask)\n",
    "\n",
    "    print('number of mask datasets',len(historical_mask))"
   ]
  },
  {
   "cell_type": "code",
   "execution_count": 621,
   "metadata": {},
   "outputs": [
    {
     "data": {
      "text/html": [
       "<div>\n",
       "<style scoped>\n",
       "    .dataframe tbody tr th:only-of-type {\n",
       "        vertical-align: middle;\n",
       "    }\n",
       "\n",
       "    .dataframe tbody tr th {\n",
       "        vertical-align: top;\n",
       "    }\n",
       "\n",
       "    .dataframe thead th {\n",
       "        text-align: right;\n",
       "    }\n",
       "</style>\n",
       "<table border=\"1\" class=\"dataframe\">\n",
       "  <thead>\n",
       "    <tr style=\"text-align: right;\">\n",
       "      <th></th>\n",
       "      <th>activity_id</th>\n",
       "      <th>organization</th>\n",
       "      <th>experiment_id</th>\n",
       "      <th>var_domain</th>\n",
       "      <th>table_id</th>\n",
       "      <th>variable_id</th>\n",
       "      <th>source_id</th>\n",
       "      <th>member_id</th>\n",
       "      <th>fname</th>\n",
       "      <th>grid_label</th>\n",
       "      <th>zstore</th>\n",
       "      <th>institution_id</th>\n",
       "    </tr>\n",
       "  </thead>\n",
       "  <tbody>\n",
       "    <tr>\n",
       "      <th>273</th>\n",
       "      <td>CMIP5</td>\n",
       "      <td>byScenario</td>\n",
       "      <td>NA</td>\n",
       "      <td>atmos</td>\n",
       "      <td>fixed</td>\n",
       "      <td>sftlf</td>\n",
       "      <td>ACCESS1-0</td>\n",
       "      <td>NA</td>\n",
       "      <td>sftlf.nc</td>\n",
       "      <td>NA</td>\n",
       "      <td>http://strega.ldeo.columbia.edu:81/CMIP5/.bySc...</td>\n",
       "      <td>ACCESS</td>\n",
       "    </tr>\n",
       "    <tr>\n",
       "      <th>274</th>\n",
       "      <td>CMIP5</td>\n",
       "      <td>byScenario</td>\n",
       "      <td>NA</td>\n",
       "      <td>atmos</td>\n",
       "      <td>fixed</td>\n",
       "      <td>sftlf</td>\n",
       "      <td>ACCESS1-3</td>\n",
       "      <td>NA</td>\n",
       "      <td>sftlf.nc</td>\n",
       "      <td>NA</td>\n",
       "      <td>http://strega.ldeo.columbia.edu:81/CMIP5/.bySc...</td>\n",
       "      <td>ACCESS</td>\n",
       "    </tr>\n",
       "    <tr>\n",
       "      <th>275</th>\n",
       "      <td>CMIP5</td>\n",
       "      <td>byScenario</td>\n",
       "      <td>NA</td>\n",
       "      <td>atmos</td>\n",
       "      <td>fixed</td>\n",
       "      <td>sftlf</td>\n",
       "      <td>bcc-csm1-1</td>\n",
       "      <td>NA</td>\n",
       "      <td>sftlf.nc</td>\n",
       "      <td>NA</td>\n",
       "      <td>http://strega.ldeo.columbia.edu:81/CMIP5/.bySc...</td>\n",
       "      <td>bcc</td>\n",
       "    </tr>\n",
       "    <tr>\n",
       "      <th>276</th>\n",
       "      <td>CMIP5</td>\n",
       "      <td>byScenario</td>\n",
       "      <td>NA</td>\n",
       "      <td>atmos</td>\n",
       "      <td>fixed</td>\n",
       "      <td>sftlf</td>\n",
       "      <td>bcc-csm1-1-m</td>\n",
       "      <td>NA</td>\n",
       "      <td>sftlf.nc</td>\n",
       "      <td>NA</td>\n",
       "      <td>http://strega.ldeo.columbia.edu:81/CMIP5/.bySc...</td>\n",
       "      <td>bcc</td>\n",
       "    </tr>\n",
       "    <tr>\n",
       "      <th>277</th>\n",
       "      <td>CMIP5</td>\n",
       "      <td>byScenario</td>\n",
       "      <td>NA</td>\n",
       "      <td>atmos</td>\n",
       "      <td>fixed</td>\n",
       "      <td>sftlf</td>\n",
       "      <td>BNU-ESM</td>\n",
       "      <td>NA</td>\n",
       "      <td>sftlf.nc</td>\n",
       "      <td>NA</td>\n",
       "      <td>http://strega.ldeo.columbia.edu:81/CMIP5/.bySc...</td>\n",
       "      <td>BNU</td>\n",
       "    </tr>\n",
       "  </tbody>\n",
       "</table>\n",
       "</div>"
      ],
      "text/plain": [
       "    activity_id organization experiment_id var_domain table_id variable_id  \\\n",
       "273       CMIP5   byScenario            NA      atmos    fixed       sftlf   \n",
       "274       CMIP5   byScenario            NA      atmos    fixed       sftlf   \n",
       "275       CMIP5   byScenario            NA      atmos    fixed       sftlf   \n",
       "276       CMIP5   byScenario            NA      atmos    fixed       sftlf   \n",
       "277       CMIP5   byScenario            NA      atmos    fixed       sftlf   \n",
       "\n",
       "        source_id member_id     fname grid_label  \\\n",
       "273     ACCESS1-0        NA  sftlf.nc         NA   \n",
       "274     ACCESS1-3        NA  sftlf.nc         NA   \n",
       "275    bcc-csm1-1        NA  sftlf.nc         NA   \n",
       "276  bcc-csm1-1-m        NA  sftlf.nc         NA   \n",
       "277       BNU-ESM        NA  sftlf.nc         NA   \n",
       "\n",
       "                                                zstore institution_id  \n",
       "273  http://strega.ldeo.columbia.edu:81/CMIP5/.bySc...         ACCESS  \n",
       "274  http://strega.ldeo.columbia.edu:81/CMIP5/.bySc...         ACCESS  \n",
       "275  http://strega.ldeo.columbia.edu:81/CMIP5/.bySc...            bcc  \n",
       "276  http://strega.ldeo.columbia.edu:81/CMIP5/.bySc...            bcc  \n",
       "277  http://strega.ldeo.columbia.edu:81/CMIP5/.bySc...            BNU  "
      ]
     },
     "execution_count": 621,
     "metadata": {},
     "output_type": "execute_result"
    }
   ],
   "source": [
    "historical_mask.head()"
   ]
  },
  {
   "cell_type": "code",
   "execution_count": 606,
   "metadata": {},
   "outputs": [],
   "source": [
    "# For proper debugging, it is helpful to add time grid information to dataframe:\n",
    "if debug:\n",
    "    with warnings.catch_warnings():\n",
    "        warnings.filterwarnings(\"ignore\")\n",
    "        dfa = add_time_info(df_available)\n",
    "else:\n",
    "    dfa = df_available.copy()"
   ]
  },
  {
   "cell_type": "code",
   "execution_count": 609,
   "metadata": {},
   "outputs": [
    {
     "name": "stdout",
     "output_type": "stream",
     "text": [
      "['http://strega.ldeo.columbia.edu:81/CMIP5/.byScenario/.historical/.atmos/.mon/.ts/.CCSM4/.r5i1p1/.ts/dods'\n",
      " 'http://strega.ldeo.columbia.edu:81/CMIP5/.byScenario/.historical/.atmos/.mon/.ts/.CCSM4/.r4i1p1/.ts/dods'\n",
      " 'http://strega.ldeo.columbia.edu:81/CMIP5/.byScenario/.historical/.atmos/.mon/.ts/.CCSM4/.r6i1p1/.ts/dods'\n",
      " 'http://strega.ldeo.columbia.edu:81/CMIP5/.byScenario/.historical/.atmos/.mon/.ts/.CCSM4/.r2i1p1/.ts/dods'\n",
      " 'http://strega.ldeo.columbia.edu:81/CMIP5/.byScenario/.historical/.atmos/.mon/.ts/.CCSM4/.r1i1p1/.ts/dods'\n",
      " 'http://strega.ldeo.columbia.edu:81/CMIP5/.byScenario/.historical/.atmos/.mon/.ts/.CCSM4/.r3i1p1/.ts/dods'\n",
      " 'http://strega.ldeo.columbia.edu:81/CMIP5/.byScenario/.historical/.atmos/.mon/.ts/.CESM1-BGC/.r1i1p1/.ts/dods'\n",
      " 'http://strega.ldeo.columbia.edu:81/CMIP5/.byScenario/.historical/.atmos/.mon/.ts/.CESM1-CAM5/.r2i1p1/.ts/dods'\n",
      " 'http://strega.ldeo.columbia.edu:81/CMIP5/.byScenario/.historical/.atmos/.mon/.ts/.CESM1-CAM5/.r1i1p1/.ts/dods'\n",
      " 'http://strega.ldeo.columbia.edu:81/CMIP5/.byScenario/.historical/.atmos/.mon/.ts/.CESM1-CAM5/.r3i1p1/.ts/dods'\n",
      " 'http://strega.ldeo.columbia.edu:81/CMIP5/.byScenario/.historical/.atmos/.mon/.ts/.CESM1-CAM5-1-FV2/.r4i1p1/.ts/dods'\n",
      " 'http://strega.ldeo.columbia.edu:81/CMIP5/.byScenario/.historical/.atmos/.mon/.ts/.CESM1-CAM5-1-FV2/.r2i1p1/.ts/dods'\n",
      " 'http://strega.ldeo.columbia.edu:81/CMIP5/.byScenario/.historical/.atmos/.mon/.ts/.CESM1-CAM5-1-FV2/.r1i1p1/.ts/dods'\n",
      " 'http://strega.ldeo.columbia.edu:81/CMIP5/.byScenario/.historical/.atmos/.mon/.ts/.CESM1-CAM5-1-FV2/.r3i1p1/.ts/dods'\n",
      " 'http://strega.ldeo.columbia.edu:81/CMIP5/.byScenario/.historical/.atmos/.mon/.ts/.CESM1-FASTCHEM/.r2i1p1/.ts/dods'\n",
      " 'http://strega.ldeo.columbia.edu:81/CMIP5/.byScenario/.historical/.atmos/.mon/.ts/.CESM1-FASTCHEM/.r1i1p1/.ts/dods'\n",
      " 'http://strega.ldeo.columbia.edu:81/CMIP5/.byScenario/.historical/.atmos/.mon/.ts/.CESM1-FASTCHEM/.r3i1p1/.ts/dods'\n",
      " 'http://strega.ldeo.columbia.edu:81/CMIP5/.byScenario/.historical/.atmos/.mon/.ts/.CESM1-WACCM/.r4i1p1/.ts/dods'\n",
      " 'http://strega.ldeo.columbia.edu:81/CMIP5/.byScenario/.historical/.atmos/.mon/.ts/.CESM1-WACCM/.r2i1p1/.ts/dods'\n",
      " 'http://strega.ldeo.columbia.edu:81/CMIP5/.byScenario/.historical/.atmos/.mon/.ts/.CESM1-WACCM/.r1i1p1/.ts/dods'\n",
      " 'http://strega.ldeo.columbia.edu:81/CMIP5/.byScenario/.historical/.atmos/.mon/.ts/.CESM1-WACCM/.r3i1p1/.ts/dods'\n",
      " 'http://strega.ldeo.columbia.edu:81/CMIP5/.byScenario/.historical/.atmos/.mon/.ts/.CMCC-CESM/.r1i1p1/.ts/dods']\n"
     ]
    }
   ],
   "source": [
    "#only use MASK code for TS!\n",
    "\n",
    "\n",
    "if location=='Ocean':        \n",
    "    historical_mask_models = set(historical_mask[[style_id, 'grid_label']].itertuples(index=False, name=None))\n",
    "    sst_models = list(dfa[[style_id, 'grid_label']].itertuples(index=False, name=None))\n",
    "\n",
    "    maskable_models = set(sst_models).intersection(historical_mask_models)\n",
    "    usable = [model in maskable_models for model in sst_models]\n",
    "    df_usable = dfa[usable]\n",
    "    \n",
    "    gsurls = np.array(df_usable.zstore)\n",
    "    missing = np.array(dfa[np.invert(usable)].zstore)\n",
    "\n",
    "    masks = historical_mask.groupby([style_id, 'grid_label']).first()\n",
    "\n",
    "    print(gsurls)\n",
    "    dfa = df_usable"
   ]
  },
  {
   "cell_type": "code",
   "execution_count": 610,
   "metadata": {},
   "outputs": [
    {
     "data": {
      "text/html": [
       "<div>\n",
       "<style scoped>\n",
       "    .dataframe tbody tr th:only-of-type {\n",
       "        vertical-align: middle;\n",
       "    }\n",
       "\n",
       "    .dataframe tbody tr th {\n",
       "        vertical-align: top;\n",
       "    }\n",
       "\n",
       "    .dataframe thead th {\n",
       "        text-align: right;\n",
       "    }\n",
       "</style>\n",
       "<table border=\"1\" class=\"dataframe\">\n",
       "  <thead>\n",
       "    <tr style=\"text-align: right;\">\n",
       "      <th></th>\n",
       "      <th></th>\n",
       "      <th>activity_id</th>\n",
       "      <th>organization</th>\n",
       "      <th>experiment_id</th>\n",
       "      <th>var_domain</th>\n",
       "      <th>table_id</th>\n",
       "      <th>variable_id</th>\n",
       "      <th>source_id</th>\n",
       "      <th>member_id</th>\n",
       "      <th>fname</th>\n",
       "      <th>zstore</th>\n",
       "    </tr>\n",
       "    <tr>\n",
       "      <th>institution_id</th>\n",
       "      <th>grid_label</th>\n",
       "      <th></th>\n",
       "      <th></th>\n",
       "      <th></th>\n",
       "      <th></th>\n",
       "      <th></th>\n",
       "      <th></th>\n",
       "      <th></th>\n",
       "      <th></th>\n",
       "      <th></th>\n",
       "      <th></th>\n",
       "    </tr>\n",
       "  </thead>\n",
       "  <tbody>\n",
       "    <tr>\n",
       "      <th>NCAR</th>\n",
       "      <th>NA</th>\n",
       "      <td>CMIP5</td>\n",
       "      <td>byScenario</td>\n",
       "      <td>NA</td>\n",
       "      <td>atmos</td>\n",
       "      <td>fixed</td>\n",
       "      <td>sftlf</td>\n",
       "      <td>CESM1-CAM5</td>\n",
       "      <td>NA</td>\n",
       "      <td>sftlf.nc</td>\n",
       "      <td>http://strega.ldeo.columbia.edu:81/CMIP5/.bySc...</td>\n",
       "    </tr>\n",
       "  </tbody>\n",
       "</table>\n",
       "</div>"
      ],
      "text/plain": [
       "                          activity_id organization experiment_id var_domain  \\\n",
       "institution_id grid_label                                                     \n",
       "NCAR           NA               CMIP5   byScenario            NA      atmos   \n",
       "\n",
       "                          table_id variable_id   source_id member_id  \\\n",
       "institution_id grid_label                                              \n",
       "NCAR           NA            fixed       sftlf  CESM1-CAM5        NA   \n",
       "\n",
       "                              fname  \\\n",
       "institution_id grid_label             \n",
       "NCAR           NA          sftlf.nc   \n",
       "\n",
       "                                                                      zstore  \n",
       "institution_id grid_label                                                     \n",
       "NCAR           NA          http://strega.ldeo.columbia.edu:81/CMIP5/.bySc...  "
      ]
     },
     "execution_count": 610,
     "metadata": {},
     "output_type": "execute_result"
    }
   ],
   "source": [
    "masks"
   ]
  },
  {
   "cell_type": "code",
   "execution_count": 611,
   "metadata": {},
   "outputs": [
    {
     "name": "stdout",
     "output_type": "stream",
     "text": [
      "[]\n"
     ]
    }
   ],
   "source": [
    "if location=='Ocean':\n",
    "    print(missing)\n",
    "    #print(sst_models.difference(maskable_models))"
   ]
  },
  {
   "cell_type": "code",
   "execution_count": 612,
   "metadata": {},
   "outputs": [],
   "source": [
    "# for pr:\n",
    "if location=='Sahel':\n",
    "    gsurls = np.array(dfa.zstore.values)"
   ]
  },
  {
   "cell_type": "code",
   "execution_count": 613,
   "metadata": {},
   "outputs": [],
   "source": [
    "if debug:\n",
    "    pd.set_option('display.max_rows', 500)\n",
    "    pd.set_option('display.max_columns', 500)\n",
    "    pd.set_option('display.width', 1000)\n",
    "\n",
    "    dm = dfa[['experiment_id','source_id','member_id','variable_id','start','stop']].groupby([\n",
    "             'experiment_id','start','stop','source_id']).nunique()[['member_id']]\n",
    "\n",
    "    table = pd.DataFrame.pivot_table(dm,\n",
    "                                     values='member_id',\n",
    "                                     index=['source_id','start','stop'],\n",
    "                                     columns=['experiment_id'],\n",
    "                                     aggfunc=np.sum,\n",
    "                                     fill_value=0)\n",
    "    print(table)"
   ]
  },
  {
   "cell_type": "code",
   "execution_count": 614,
   "metadata": {},
   "outputs": [
    {
     "data": {
      "text/plain": [
       "[]"
      ]
     },
     "execution_count": 614,
     "metadata": {},
     "output_type": "execute_result"
    }
   ],
   "source": [
    "if not cmip5:\n",
    "    I = dfa.issue_url.unique()\n",
    "    if variable == 'ts':\n",
    "        I = set(I).union(masks.issue_url.unique())\n",
    "else:\n",
    "    I = []\n",
    "I"
   ]
  },
  {
   "cell_type": "code",
   "execution_count": 615,
   "metadata": {},
   "outputs": [],
   "source": [
    "if not cmip5:\n",
    "    fs = gcsfs.GCSFileSystem(token='anon', access='read_only') #the actual files, not the list of files woohoo FILE SYSTEM\n",
    "    #fs.get_mapper()"
   ]
  },
  {
   "cell_type": "code",
   "execution_count": 616,
   "metadata": {},
   "outputs": [
    {
     "name": "stdout",
     "output_type": "stream",
     "text": [
      "['/home/rebecca/netcdf/cmip5/preprocessed/historical/various/globalts_NCAR_CCSM4_r5i1p1.nc'] already exists\n",
      "['/home/rebecca/netcdf/cmip5/preprocessed/historical/various/globalts_NCAR_CCSM4_r4i1p1.nc'] already exists\n",
      "['/home/rebecca/netcdf/cmip5/preprocessed/historical/various/globalts_NCAR_CCSM4_r6i1p1.nc'] already exists\n",
      "['/home/rebecca/netcdf/cmip5/preprocessed/historical/various/globalts_NCAR_CCSM4_r2i1p1.nc'] already exists\n",
      "['/home/rebecca/netcdf/cmip5/preprocessed/historical/various/globalts_NCAR_CCSM4_r1i1p1.nc'] already exists\n",
      "['/home/rebecca/netcdf/cmip5/preprocessed/historical/various/globalts_NCAR_CCSM4_r3i1p1.nc'] already exists\n",
      "['/home/rebecca/netcdf/cmip5/preprocessed/historical/various/globalts_NCAR_CESM1-BGC_r1i1p1.nc'] already exists\n",
      "['/home/rebecca/netcdf/cmip5/preprocessed/historical/various/globalts_NCAR_CESM1-CAM5_r2i1p1.nc'] already exists\n",
      "['/home/rebecca/netcdf/cmip5/preprocessed/historical/various/globalts_NCAR_CESM1-CAM5_r1i1p1.nc'] already exists\n",
      "['/home/rebecca/netcdf/cmip5/preprocessed/historical/various/globalts_NCAR_CESM1-CAM5_r3i1p1.nc'] already exists\n",
      "CESM1-CAM5-1-FV2  will be masked by  CESM1-CAM5\n",
      "incompatible mask for CESM1-CAM5-1-FV2 r4i1p1\n",
      "CESM1-CAM5-1-FV2  will be masked by  CESM1-CAM5\n",
      "incompatible mask for CESM1-CAM5-1-FV2 r2i1p1\n",
      "CESM1-CAM5-1-FV2  will be masked by  CESM1-CAM5\n",
      "incompatible mask for CESM1-CAM5-1-FV2 r1i1p1\n",
      "CESM1-CAM5-1-FV2  will be masked by  CESM1-CAM5\n",
      "incompatible mask for CESM1-CAM5-1-FV2 r3i1p1\n",
      "['/home/rebecca/netcdf/cmip5/preprocessed/historical/various/globalts_NCAR_CESM1-FASTCHEM_r2i1p1.nc'] already exists\n",
      "['/home/rebecca/netcdf/cmip5/preprocessed/historical/various/globalts_NCAR_CESM1-FASTCHEM_r1i1p1.nc'] already exists\n",
      "['/home/rebecca/netcdf/cmip5/preprocessed/historical/various/globalts_NCAR_CESM1-FASTCHEM_r3i1p1.nc'] already exists\n",
      "['/home/rebecca/netcdf/cmip5/preprocessed/historical/various/globalts_NCAR_CESM1-WACCM_r4i1p1.nc'] already exists\n",
      "['/home/rebecca/netcdf/cmip5/preprocessed/historical/various/globalts_NCAR_CESM1-WACCM_r2i1p1.nc'] already exists\n",
      "['/home/rebecca/netcdf/cmip5/preprocessed/historical/various/globalts_NCAR_CESM1-WACCM_r1i1p1.nc'] already exists\n",
      "['/home/rebecca/netcdf/cmip5/preprocessed/historical/various/globalts_NCAR_CESM1-WACCM_r3i1p1.nc'] already exists\n",
      "['/home/rebecca/netcdf/cmip5/preprocessed/historical/various/globalts_NCAR_CMCC-CESM_r1i1p1.nc'] already exists\n"
     ]
    }
   ],
   "source": [
    "#gsurls = dfa.zstore.values #zstore is the url where the data is stored\n",
    "\n",
    "ds_out = xe.util.grid_global(2, 4)\n",
    "\n",
    "AL = True\n",
    "conv = False\n",
    "bndries = False\n",
    "replace = False\n",
    "start_month = 7\n",
    "end_month = 9\n",
    "\n",
    "ds_list = []\n",
    "ds_failed_list = []\n",
    "\n",
    "if conv:\n",
    "    search_uv = search.copy()\n",
    "    search_uv['source_id'] = [model]\n",
    "    search_uv['member_id'] = [run]\n",
    "    search_u = search_uv.copy()\n",
    "    search_v = search_uv.copy()\n",
    "    search_u['variable_id'] = ['ua']\n",
    "    search_v['variable_id'] = ['va']\n",
    "    \n",
    "    \n",
    "for row in dfa.iterrows():\n",
    "    gsurl = row[1].zstore\n",
    "    #zdict = get_zdict(gsurl, dfa) #naomi func for metadata TODO: LOL this is dumb why don't we just use the table so it doesn't get messed up????\n",
    "    institution = row[1].institution_id #zdict['institution_id']\n",
    "    model = row[1].source_id #zdict['source_id']\n",
    "    source_dict = {'source':model, 'institution':institution}\n",
    "    ensemble = row[1].activity_id.lower()\n",
    "    if ensemble == 'cmip':\n",
    "        ensemble = 'cmip6'\n",
    "    try:\n",
    "        grd = row[1].grid_label #zdict['grid_label']\n",
    "    except(KeyError):\n",
    "        grd = 'gn'\n",
    "    run = row[1].member_id #zdict['member_id']\n",
    "    variable = row[1].variable_id #zdict['variable_id']\n",
    "    expt = row[1].experiment_id #zdict['experiment_id']\n",
    "    if conv:\n",
    "        filename = f'{variable}_conv_925_{institution}_{model}_{run}'\n",
    "    elif bndries:\n",
    "        filename = f'{variable}_bndries_{institution}_{model}_{run}'\n",
    "    elif AL:\n",
    "        filename = f'global{variable}_{institution}_{model}_{run}'\n",
    "    else:\n",
    "        filename = f'{variable}_{institution}_{model}_{run}'\n",
    "    ncdir = f'{zarr_local}/{ensemble}/preprocessed/{expt}/various'#{start_month}-{end_month}'\n",
    "    ncfile = f'{ncdir}/{filename}.nc'\n",
    "    \n",
    "#move replace back to here\n",
    "    \n",
    "    if(not replace):\n",
    "        ncfiles = glob(ncfile) #check not to double-download files\n",
    "        if len(ncfiles) > 0:\n",
    "            print(ncfiles, 'already exists')\n",
    "            continue\n",
    "            \n",
    "    with warnings.catch_warnings():\n",
    "        warnings.filterwarnings(\"ignore\")\n",
    "        #TODO: NEED TO CHANGE THIS FOR CMIP5\n",
    "        if(df_available.activity_id.values[0]=='CMIP5'):\n",
    "            ds0 = xr.open_dataset(gsurl,decode_times=False)\n",
    "            if variable=='ts':\n",
    "                d_s = historical_mask[historical_mask[style_id]==source_dict[style]]\n",
    "                M2 = d_s.source_id.values[0]\n",
    "                mask_ds = xr.open_dataset(d_s.zstore.values[0],decode_times=False)\n",
    "        else:\n",
    "            ds0 = xr.open_zarr(fs.get_mapper(gsurl),consolidated=True) #gets info about the file. get_mapper! always use consolidated=True\n",
    "            if variable=='ts':\n",
    "                mask_ds = xr.open_zarr(fs.get_mapper(masks['zstore'][(source_dict[style], grd)]),consolidated=True)\n",
    "                if style != 'source':\n",
    "                    M2 = masks['source_id'][(source_dict[style],grd)]\n",
    "                else:\n",
    "                    M2 = model\n",
    "        if (variable=='ts') and not M2==model:\n",
    "            print(model, ' will be masked by ', M2)\n",
    "                \n",
    "        #if variable=='ta' or variable=='zg':\n",
    "         #   ds0 = ds0.isel({'plev': ds0.plev==100})\n",
    "        if conv:\n",
    "            U = np.array(search_df(df_cloud, **search_u).zstore.values)\n",
    "            V = np.array(search_df(df_cloud, **search_v).zstore.values)\n",
    "            if len(U) == 1 and len(V) == 1:\n",
    "                dsU = xr.open_zarr(fs.get_mapper(U[0]),consolidated=True)\n",
    "                dsV = xr.open_zarr(fs.get_mapper(V[0]),consolidated=True)\n",
    "                ds0['va'] = dsV['va']\n",
    "                ds0['ua'] = dsU['ua']\n",
    "            else:\n",
    "                continue\n",
    "        \n",
    "    #month_length = ds.time.dt.days_in_month #for some reason the first one doesn't have this...\n",
    "        \n",
    "    ds0 = update_vars(ds0)\n",
    "    \n",
    "    if location=='Ocean':\n",
    "        mask_ds = update_vars(mask_ds)\n",
    "        if (ds0.lat.size != mask_ds.lat.size) or (ds0.lon.size != mask_ds.lon.size):\n",
    "            print('incompatible mask for', model, run)\n",
    "            continue\n",
    "        S = sum(ds0.lat.values.round() == mask_ds.lat.values.round())\n",
    "        if S != ds0.lat.size:\n",
    "            S2 = sum(ds0.lat.values.round()==mask_ds.lat.values.round()[::-1])\n",
    "            if S2 == ds0.lat.size:\n",
    "                mask_ds = mask_ds.reindex(lat=mask_ds.lat[::-1])\n",
    "            else:\n",
    "                print('dimension mismatch:', S, '!=', ds0.lat.size, '. Skipping', model, run)\n",
    "                #continue\n",
    "        #need to come up with a systematic way of catching when the mask needs to be flipped.\n",
    "        ls_mask = np.floor(1-mask_ds.sftlf.values/mask_ds.sftlf.values.max())#np.flip(, axis=0)\n",
    "        new_lon = (ds0.lon+180)%360-180\n",
    "        new_mask = (ds0.lat>4)*(6*ds0.lat - 5*new_lon <164) + (ds0.lat<4)*(6*ds0.lat + 5*new_lon > -116)\n",
    "        if hasattr(S, 'values'):\n",
    "                S = S.values\n",
    "        new_mask = new_mask.values #xr.ones_like(ds0)*\n",
    "    \n",
    "    try:\n",
    "        #if variable=='hus':\n",
    "        #    ds = ds0.isel({'plev':ds0.plev==8.5e4})\n",
    "        #else:\n",
    "        ds = ds0\n",
    "        #THINGS THAT WERE WRONG: NA, TA, W and E\n",
    "        if location=='Ocean':\n",
    "            if AL:\n",
    "                Sm = compute_seasonal_mean(ds, [start_month, end_month], mask = ls_mask)\n",
    "                regridder = xe.Regridder(Sm, ds_out, \"bilinear\", reuse_weights=True, periodic=True)\n",
    "                Sm = regridder(Sm['ts']).to_dataset()\n",
    "            else:\n",
    "                #TODO don't assume it's ts. make NARI and p1 only for ts.\n",
    "                #El Nino, peaks in winter.\n",
    "                Sm = compute_area_and_seasonal_mean(ds, [140,-80],[-20,20],[1, 3], mask=ls_mask)\n",
    "                Sm = Sm.rename_vars({'ts':'EN'})\n",
    "                #Atlantic Meridional Mode. Peaks in MAM.\n",
    "                Sm['AMM'] = compute_area_and_seasonal_mean(ds, [-60,-15], [10,20], [3, 5]).ts #5,15                \n",
    "                #Gulf of Gunea. area defined by Keys, season defined by Lele.\n",
    "                Sm['GG'] = compute_area_and_seasonal_mean(ds, [-28,20], [-35,15], [5, 6], mask=ls_mask*new_mask).ts\n",
    "                #JAS indices, beginning with the Pacific, which includes the Carribean Sea. \n",
    "                JAS = compute_seasonal_mean(ds, [7,9])\n",
    "                Sm['Pc'] = compute_area_mean(JAS, [140,-60],[-20,20], mask=ls_mask).ts\n",
    "                Sm['TA'] = compute_area_and_seasonal_mean(ds, [-60,-15], [10,20], [7, 9]).ts #5,15                \n",
    "                #Tropical Atlantic Sea Breeze, area defined by Lele given JAS\n",
    "                #this is actually cutting it super close to the AN/cold tongue thing. Perhaps I should lose this, just use Ale's SA, change TA to AMM and add back TA.\n",
    "                Sm['SB'] = compute_area_mean(JAS, [-30,20], [0,10], mask=ls_mask).ts\n",
    "                #North Atlantic\n",
    "                Sm['NA'] = compute_area_mean(JAS, [-75,-15], [20,40]).ts #Ale's: 10:40 doesn't need mask\n",
    "                #South Atlantic (combine with SB to get ale's SA). The full SA should roughly capture the Atlantic Nino, which peaks in JJA (678)\n",
    "                Sm['SA'] = compute_area_mean(JAS, [-30, 20], [-20,10], mask=ls_mask).ts\n",
    "                #Indian Ocean\n",
    "                Sm['IN'] = compute_area_mean(JAS, [40,100],[-20,20], mask=ls_mask).ts\n",
    "                #Phillipines\n",
    "                Sm['Ph'] = compute_area_mean(JAS, [100,140],[-20,20], mask=ls_mask).ts\n",
    "                #Global Tropics\n",
    "                Sm['GT'] = compute_area_mean(JAS, [0,360],[-20,20], mask=ls_mask).ts\n",
    "                #South Atlantic Leftovers to GT\n",
    "                Sm['L'] = compute_area_mean(JAS, [-60,-30],[-20,0], mask=ls_mask).ts\n",
    "                # mediterranean\n",
    "                Sm['md'] = compute_area_mean(JAS, [-6,36], [30,40], mask=ls_mask).ts\n",
    "                if(variable=='ts'):\n",
    "                    Sm['NARI'] = Sm['NA'] + Sm['TA']- Sm['GT'] \n",
    "                    Sm['p1'] = Sm['NA'] +Sm['TA']+ Sm['GT'] \n",
    "                    \n",
    "        elif conv:\n",
    "            Sm = compute_conv(ds, [-20,40], [12,18], [start_month, end_month], 92500)\n",
    "        elif bndries:\n",
    "            if variable!='ua':\n",
    "                S = compute_area_and_seasonal_mean(ds, [-20,40], [12-calc_stp(ds.lat), 12], [start_month, end_month])\n",
    "                N = compute_area_and_seasonal_mean(ds, [-20,40], [18, 18+calc_stp(ds.lat)], [start_month, end_month])\n",
    "            if variable!='va':\n",
    "                W = compute_area_and_seasonal_mean(ds, [-20-calc_stp(ds.lon), -20], [12,18], [start_month, end_month])\n",
    "                E = compute_area_and_seasonal_mean(ds, [40, 40+calc_stp(ds.lon)], [12,18], [start_month, end_month])\n",
    "            if variable=='ua':\n",
    "                Sm = W.rename_vars({variable:(variable+'_West')})\n",
    "                Sm[variable+'_East'] = E[variable]\n",
    "            else:\n",
    "                Sm = S.rename_vars({variable:(variable+'_South')})\n",
    "                Sm[variable+'_North'] = N[variable]\n",
    "                if variable!= 'va':\n",
    "                    Sm[variable+'_West'] = W[variable]\n",
    "                    Sm[variable+'_East'] = E[variable]\n",
    "        else:\n",
    "            Sm = compute_area_and_seasonal_mean(ds, [-20,40], [12,18], [start_month, end_month])\n",
    "  \n",
    "    except ValueError:\n",
    "        print(f'value error for {ncfile}')\n",
    "        ds_failed_list += [ds]\n",
    "        continue\n",
    "    #have to customize this to the variable I'm using!\n",
    "    unts = ds[variable].attrs['units']\n",
    "    if (variable=='ts') or (variable=='tas') or (variable=='ta'):\n",
    "        if not (unts=='K' or unts == 'Kelvin_scale'):\n",
    "            print(\"cannot comprehend units ({}), skipping model {}\".format(ds[variable].attrs['units'], model))\n",
    "            continue\n",
    "    elif (variable=='pr') or (variable=='evspsbl'):\n",
    "        if unts == 'kg m-2 s-1':\n",
    "            Sm *= 86400\n",
    "        else:\n",
    "            print(\"cannot comprehend units ({}), skipping model {}\".format(ds.pr.attrs['units'], model))\n",
    "            continue\n",
    "    elif variable=='zg':\n",
    "        if not unts=='m':\n",
    "            print(\"cannot comprehend units ({}), skipping model {}\".format(ds[variable].attrs['units'], model))\n",
    "            continue\n",
    "    elif (variable=='huss') or (variable=='hus'):\n",
    "        Sm *= 1000/float(unts) #convert to g/kg WHY DID I DO THIS?!\n",
    "    elif (variable=='va' or variable=='ua'):\n",
    "        if not ((unts=='m/s') or (unts=='m s-1')):\n",
    "            print(\"cannot comprehend units ({}), skipping model {}\".format(ds[variable].attrs['units'], model))\n",
    "            continue\n",
    "    else:\n",
    "        print(\"need to make new units case for variable {} with units {}\".format(variable, unts))\n",
    "\n",
    "    os.system(f'mkdir -p {ncdir}')\n",
    "\n",
    "    try:\n",
    "        Sm.to_netcdf(ncfile,mode='w',unlimited_dims=['time','year'])  #saves the file. Don't have to do this before I'm ready! But ds is replaced each time...\n",
    "        ds_list += [Sm]\n",
    "        print(f'saving file {ncfile}')\n",
    "    except ValueError:\n",
    "        print(f'value error for {ncfile}')\n",
    "        ds_failed_list += [Sm]\n",
    "        continue    \n",
    "        \n",
    "    #ok I got an error for a model which uses i/j coordinates instead of lat lon! OY VEY...\n",
    "    \n",
    "    #force it to replace ['/home/rebecca/netcdf/cmip6/preprocessed/hist-nat/7-9/ts_IPSL_IPSL-CM6A-LR_r1i1p1f1.nc'] already exists"
   ]
  },
  {
   "cell_type": "code",
   "execution_count": null,
   "metadata": {},
   "outputs": [],
   "source": [
    "tids = df_cloud['variable_id']\n",
    "vids = df_cloud['grid_label']\n",
    "set([vids[i] for i in range(len(tids)) if tids[i]=='siconc'])\n",
    "#df_cloud['table_id'].unique()"
   ]
  },
  {
   "cell_type": "code",
   "execution_count": 311,
   "metadata": {},
   "outputs": [],
   "source": [
    "Sm.to_netcdf(ncfile,mode='w')"
   ]
  },
  {
   "cell_type": "code",
   "execution_count": 617,
   "metadata": {},
   "outputs": [
    {
     "data": {
      "text/plain": [
       "<xarray.Dataset>\n",
       "Dimensions:  (lat: 96, lon: 144, time: 1872)\n",
       "Coordinates:\n",
       "  * lat      (lat) float32 -90.0 -88.10526 -86.210526 ... 88.10526 90.0\n",
       "  * lon      (lon) float32 0.0 2.5 5.0 7.5 10.0 ... 350.0 352.5 355.0 357.5\n",
       "  * time     (time) datetime64[ns] 1850-01-16T05:14:31.902460800 ... 2005-12-16T13:30:00\n",
       "Data variables:\n",
       "    ts       (time, lat, lon) float32 ...\n",
       "Attributes:\n",
       "    Conventions:  IRIDL"
      ]
     },
     "execution_count": 617,
     "metadata": {},
     "output_type": "execute_result"
    }
   ],
   "source": [
    "ds0"
   ]
  },
  {
   "cell_type": "code",
   "execution_count": 618,
   "metadata": {},
   "outputs": [
    {
     "data": {
      "text/plain": [
       "<xarray.Dataset>\n",
       "Dimensions:  (lat: 192, lon: 288)\n",
       "Coordinates:\n",
       "  * lon      (lon) float32 0.0 1.25 2.5 3.75 5.0 ... 355.0 356.25 357.5 358.75\n",
       "  * lat      (lat) float32 -90.0 -89.057594 -88.11518 ... 89.057594 90.0\n",
       "Data variables:\n",
       "    sftlf    (lat, lon) float32 ...\n",
       "Attributes:\n",
       "    Conventions:  IRIDL"
      ]
     },
     "execution_count": 618,
     "metadata": {},
     "output_type": "execute_result"
    }
   ],
   "source": [
    "mask_ds"
   ]
  },
  {
   "cell_type": "code",
   "execution_count": 395,
   "metadata": {},
   "outputs": [
    {
     "name": "stderr",
     "output_type": "stream",
     "text": [
      "/home/naomi/.conda/envs/my3.6/lib/python3.6/site-packages/ipykernel_launcher.py:1: DeprecationWarning: elementwise == comparison failed; this will raise an error in the future.\n",
      "  \"\"\"Entry point for launching an IPython kernel.\n"
     ]
    },
    {
     "data": {
      "text/plain": [
       "False"
      ]
     },
     "execution_count": 395,
     "metadata": {},
     "output_type": "execute_result"
    }
   ],
   "source": [
    "ds0.lat.values.round() == mask_ds.lat.values.round()"
   ]
  },
  {
   "cell_type": "code",
   "execution_count": 554,
   "metadata": {},
   "outputs": [
    {
     "data": {
      "text/plain": [
       "<matplotlib.collections.QuadMesh at 0x7fad1cac6ac8>"
      ]
     },
     "execution_count": 554,
     "metadata": {},
     "output_type": "execute_result"
    },
    {
     "data": {
      "image/png": "[encoded data removed]",
      "text/plain": [
       "<Figure size 576x360 with 2 Axes>"
      ]
     },
     "metadata": {},
     "output_type": "display_data"
    }
   ],
   "source": [
    "#mask_ds = xr.open_zarr(fs.get_mapper(masks['zstore'][(source_dict[style], grd)]),consolidated=True)\n",
    "#mask_ds = update_vars(mask_ds)\n",
    "mask_ds.sftlf.plot()"
   ]
  },
  {
   "cell_type": "code",
   "execution_count": 286,
   "metadata": {},
   "outputs": [
    {
     "data": {
      "text/plain": [
       "160"
      ]
     },
     "execution_count": 286,
     "metadata": {},
     "output_type": "execute_result"
    }
   ],
   "source": [
    "S = sum(ds0.lat.values.round() == mask_ds.lat.values.round())\n",
    "S2 = sum(ds0.lat.values.round()==mask_ds.lat.values.round()[::-1])\n",
    "S2"
   ]
  },
  {
   "cell_type": "code",
   "execution_count": 582,
   "metadata": {},
   "outputs": [
    {
     "data": {
      "text/plain": [
       "<matplotlib.collections.QuadMesh at 0x7fadc45e0198>"
      ]
     },
     "execution_count": 582,
     "metadata": {},
     "output_type": "execute_result"
    },
    {
     "data": {
      "image/png": "[encoded data removed]",
      "text/plain": [
       "<Figure size 576x360 with 2 Axes>"
      ]
     },
     "metadata": {},
     "output_type": "display_data"
    }
   ],
   "source": [
    "Sm.ts[0].plot(x=\"lon\",y=\"lat\")"
   ]
  },
  {
   "cell_type": "code",
   "execution_count": 571,
   "metadata": {},
   "outputs": [
    {
     "data": {
      "text/plain": [
       "<matplotlib.collections.QuadMesh at 0x7fac3899d6a0>"
      ]
     },
     "execution_count": 571,
     "metadata": {},
     "output_type": "execute_result"
    },
    {
     "data": {
      "image/png": "[encoded data removed]",
      "text/plain": [
       "<Figure size 576x360 with 2 Axes>"
      ]
     },
     "metadata": {},
     "output_type": "display_data"
    }
   ],
   "source": [
    "ds0.ts[0].plot()"
   ]
  },
  {
   "cell_type": "code",
   "execution_count": 551,
   "metadata": {},
   "outputs": [
    {
     "data": {
      "text/plain": [
       "<xarray.Dataset>\n",
       "Dimensions:  (lat: 73, lon: 96)\n",
       "Coordinates:\n",
       "  * lon      (lon) float32 1.875 5.625 9.375 13.125 ... 350.625 354.375 358.125\n",
       "  * lat      (lat) float32 -88.76711 -86.30136 -83.83561 ... 86.30138 88.76713\n",
       "Data variables:\n",
       "    sftlf    (lat, lon) float32 ...\n",
       "Attributes:\n",
       "    Conventions:  IRIDL"
      ]
     },
     "execution_count": 551,
     "metadata": {},
     "output_type": "execute_result"
    }
   ],
   "source": [
    "mask_ds"
   ]
  },
  {
   "cell_type": "code",
   "execution_count": 529,
   "metadata": {},
   "outputs": [
    {
     "data": {
      "text/plain": [
       "<xarray.Dataset>\n",
       "Dimensions:  (x: 180, x_b: 181, y: 45, y_b: 46)\n",
       "Coordinates:\n",
       "    lon      (y, x) float64 -179.0 -177.0 -175.0 -173.0 ... 175.0 177.0 179.0\n",
       "    lat      (y, x) float64 -88.0 -88.0 -88.0 -88.0 ... 88.0 88.0 88.0 88.0\n",
       "    lon_b    (y_b, x_b) int64 -180 -178 -176 -174 -172 ... 172 174 176 178 180\n",
       "    lat_b    (y_b, x_b) int64 -90 -90 -90 -90 -90 -90 -90 ... 90 90 90 90 90 90\n",
       "Dimensions without coordinates: x, x_b, y, y_b\n",
       "Data variables:\n",
       "    *empty*"
      ]
     },
     "execution_count": 529,
     "metadata": {},
     "output_type": "execute_result"
    }
   ],
   "source": [
    "ds_out"
   ]
  },
  {
   "cell_type": "code",
   "execution_count": 185,
   "metadata": {},
   "outputs": [
    {
     "data": {
      "text/plain": [
       "<xarray.DataArray (lat: 160, lon: 320)>\n",
       "array([[False, False, False, ..., False, False, False],\n",
       "       [False, False, False, ..., False, False, False],\n",
       "       [False, False, False, ..., False, False, False],\n",
       "       ...,\n",
       "       [False, False, False, ..., False, False, False],\n",
       "       [False, False, False, ..., False, False, False],\n",
       "       [False, False, False, ..., False, False, False]])\n",
       "Coordinates:\n",
       "  * lat      (lat) float64 89.14 88.03 86.91 85.79 ... -86.91 -88.03 -89.14\n",
       "  * lon      (lon) float64 0.0 1.125 2.25 3.375 4.5 ... 355.5 356.6 357.8 358.9"
      ]
     },
     "execution_count": 185,
     "metadata": {},
     "output_type": "execute_result"
    }
   ],
   "source": [
    "new_mask = (mask_ds.lat>4)*(6*mask_ds.lat - 5*new_lon <164) + (mask_ds.lat<4)*(6*mask_ds.lat + 5*new_lon > -116)\n",
    "new_mask"
   ]
  },
  {
   "cell_type": "code",
   "execution_count": null,
   "metadata": {},
   "outputs": [],
   "source": [
    "ds0 = xr.open_dataset(gsurl,decode_times=False)\n",
    "mask_ds = xr.open_dataset(historical_mask[historical_mask.source_id==model].zstore.values[0],decode_times=False)\n",
    "ds0.T\n",
    "ds0 = update_vars(ds0)\n",
    "mask_ds = update_vars(mask_ds)\n",
    "ls_mask = np.floor(1-mask_ds.sftlf.values/100)\n",
    "mask = ls_mask\n",
    "ds = ds0\n",
    "Sm = compute_seasonal_mean(ds, [7, 9], mask = ls_mask)\n",
    "Sm\n",
    "#Sm.ts[0].plot()"
   ]
  },
  {
   "cell_type": "code",
   "execution_count": null,
   "metadata": {},
   "outputs": [],
   "source": [
    "analysis_url = 'http://strega.ldeo.columbia.edu:81/expert/CMIP5/.byScenario/.historical/.atmos/.mon/.ts/.NorESM1-ME/.r1i1p1/.ts/SOURCES/.WORLDBATH/.bath/X/%28lon%29renameGRID/Y/%28lat%29renameGRID%5Blon/lat%5DregridLinear/0/maskgt/0/mul/add//time//T/renameGRID/T/1/monthlyAverage/T/%28Jul-Sep%29seasonalAverage/T/12/STEP/dods'\n",
    "ds_comp = xr.open_dataset(analysis_url, decode_times=False)\n",
    "ds_comp = update_vars(ds_comp)\n",
    "#ds_comp.asum[0].plot()\n",
    "ds_comp\n",
    "\n",
    "\n",
    "\n",
    "\n",
    "    for var in [var for var in ds.coords]:\n",
    "        if 'bounds' in var:\n",
    "            nvar = var.replace('bounds','bnds')\n",
    "            #print(var,nvar)\n",
    "            ds = ds.rename({var:nvar})"
   ]
  },
  {
   "cell_type": "code",
   "execution_count": null,
   "metadata": {},
   "outputs": [],
   "source": [
    "        Sm.to_netcdf(ncfile,mode='w',unlimited_dims=['time','year'])  #saves the file. Don't have to do this before I'm ready! But ds is replaced each time...\n"
   ]
  },
  {
   "cell_type": "code",
   "execution_count": 59,
   "metadata": {},
   "outputs": [
    {
     "data": {
      "text/plain": [
       "<xarray.DataArray 'year' (time: 10212)>\n",
       "array([4150, 4150, 4150, ..., 5000, 5000, 5000])\n",
       "Coordinates:\n",
       "  * time     (time) object 4150-01-16 12:00:00 ... 5000-12-16 12:00:00"
      ]
     },
     "execution_count": 59,
     "metadata": {},
     "output_type": "execute_result"
    }
   ],
   "source": [
    "ds.time.dt.year"
   ]
  },
  {
   "cell_type": "code",
   "execution_count": 56,
   "metadata": {},
   "outputs": [
    {
     "data": {
      "text/plain": [
       "<xarray.Dataset>\n",
       "Dimensions:   (bnds: 2, lat: 90, lon: 144, year: 851)\n",
       "Coordinates:\n",
       "    lon_bnds  (lon, bnds) float64 0.0 2.5 2.5 5.0 ... 355.0 357.5 357.5 360.0\n",
       "    lat_bnds  (lat, bnds) float64 -90.0 -88.0 -88.0 -86.0 ... 88.0 88.0 90.0\n",
       "  * lon       (lon) float64 1.25 3.75 6.25 8.75 ... 351.2 353.8 356.2 358.8\n",
       "  * lat       (lat) float64 -89.0 -87.0 -85.0 -83.0 ... 83.0 85.0 87.0 89.0\n",
       "  * year      (year) int64 4150 4151 4152 4153 4154 ... 4996 4997 4998 4999 5000\n",
       "Dimensions without coordinates: bnds\n",
       "Data variables:\n",
       "    ts        (year, lat, lon) float32 dask.array<chunksize=(1, 90, 144), meta=np.ndarray>\n",
       "Attributes:\n",
       "    Conventions:            CF-1.7 CMIP-6.2\n",
       "    activity_id:            CMIP\n",
       "    branch_method:          standard\n",
       "    branch_time_in_child:   0.0\n",
       "    branch_time_in_parent:  0.0\n",
       "    cmor_version:           3.3.2\n",
       "    contact:                Kenneth Lo (cdkkl@giss.nasa.gov)\n",
       "    creation_date:          2018-08-24T12:18:46Z\n",
       "    data_specs_version:     01.00.23\n",
       "    experiment:             pre-industrial control\n",
       "    experiment_id:          piControl\n",
       "    external_variables:     areacella\n",
       "    forcing_index:          1\n",
       "    frequency:              mon\n",
       "    further_info_url:       https://furtherinfo.es-doc.org/CMIP6.NASA-GISS.GI...\n",
       "    grid:                   atmospheric grid: 144x90, ocean grid: 288x180\n",
       "    grid_label:             gn\n",
       "    history:                2018-08-24T12:18:46Z ; CMOR rewrote data to be co...\n",
       "    initialization_index:   1\n",
       "    institution:            Goddard Institute for Space Studies, New York, NY...\n",
       "    institution_id:         NASA-GISS\n",
       "    license:                CMIP6 model data produced by NASA Goddard Institu...\n",
       "    mip_era:                CMIP6\n",
       "    model_id:               E200F40oQ40\n",
       "    nominal_resolution:     250 km\n",
       "    parent_activity_id:     CMIP\n",
       "    parent_experiment_id:   piControl-spinup\n",
       "    parent_experiment_rip:  r1i1p1\n",
       "    parent_mip_era:         CMIP6\n",
       "    parent_source_id:       GISS-E2-1-G\n",
       "    parent_time_units:      days since 4101-1-1\n",
       "    parent_variant_label:   r1i1p1f1\n",
       "    physics_index:          1\n",
       "    product:                model-output\n",
       "    realization_index:      1\n",
       "    realm:                  atmos\n",
       "    references:             https://data.giss.nasa.gov/modelE/cmip6\n",
       "    source:                 GISS-E2.1G (2016): \\naerosol: Varies with physics...\n",
       "    source_id:              GISS-E2-1-G\n",
       "    source_type:            AOGCM\n",
       "    sub_experiment:         none\n",
       "    sub_experiment_id:      none\n",
       "    table_id:               Amon\n",
       "    table_info:             Creation Date:(21 March 2018) MD5:652eaa766045a77...\n",
       "    title:                  GISS-E2-1-G output prepared for CMIP6\n",
       "    tracking_id:            hdl:21.14100/187b16ce-91ae-43e8-ae74-6fae7f469762...\n",
       "    variable_id:            ts\n",
       "    variant_label:          r1i1p1f1\n",
       "    status:                 2019-10-25;created;by nhn2@columbia.edu\n",
       "    netcdf_tracking_ids:    hdl:21.14100/187b16ce-91ae-43e8-ae74-6fae7f469762...\n",
       "    version_id:             v20180824"
      ]
     },
     "execution_count": 56,
     "metadata": {},
     "output_type": "execute_result"
    }
   ],
   "source": [
    "Sm = compute_area_and_seasonal_mean(ds, [140,-80],[-20,20],[1, 3], mask=ls_mask)\n",
    "compute_seasonal_mean(ds, [1,3], mask=ls_mask)"
   ]
  },
  {
   "cell_type": "code",
   "execution_count": null,
   "metadata": {},
   "outputs": [],
   "source": [
    "Sm = compute_seasonal_mean(ds, [start_month, end_month], mask = ls_mask)\n",
    "Sm.ts[0].plot()"
   ]
  },
  {
   "cell_type": "code",
   "execution_count": null,
   "metadata": {},
   "outputs": [],
   "source": [
    "mask_ds.sftlf.values.max()"
   ]
  },
  {
   "cell_type": "code",
   "execution_count": null,
   "metadata": {},
   "outputs": [],
   "source": [
    "((mask_ds.sftlf>mask_ds.sftlf.values.min())*xr.ones_like(ds)).ts[time=1901]"
   ]
  },
  {
   "cell_type": "code",
   "execution_count": null,
   "metadata": {},
   "outputs": [],
   "source": [
    "mask_ds"
   ]
  },
  {
   "cell_type": "code",
   "execution_count": null,
   "metadata": {},
   "outputs": [],
   "source": [
    "mask_ds.sftlf.values[5:10,5:10]"
   ]
  },
  {
   "cell_type": "code",
   "execution_count": null,
   "metadata": {},
   "outputs": [],
   "source": [
    "            Sm = compute_area_and_seasonal_mean(ds, [-20,40], [12-calc_stp(ds.lat), 12], [start_month, end_month])\n",
    "            Sm = Sm.rename_vars({variable:(variable+'_South')})\n",
    "            N = compute_area_and_seasonal_mean(ds, [-20,40], [18, 18+calc_stp(ds.lat)], [start_month, end_month])\n",
    "            Sm[variable+'_North'] = N[variable]\n",
    "            W = compute_area_and_seasonal_mean(ds, [-20-calc_stp(ds.lon), -20], [12,18], [start_month, end_month])\n",
    "            Sm[variable+'_West'] = W[variable]\n",
    "            E = compute_area_and_seasonal_mean(ds, [40, 40+calc_stp(ds.lon)], [12,18], [start_month, end_month])\n",
    "            Sm[variable+'_East'] = E[variable]"
   ]
  },
  {
   "cell_type": "code",
   "execution_count": null,
   "metadata": {},
   "outputs": [],
   "source": [
    "slim = [start_month, end_month]"
   ]
  },
  {
   "cell_type": "code",
   "execution_count": null,
   "metadata": {},
   "outputs": [],
   "source": [
    "T = 0\n",
    "F = 0\n",
    "c = 0\n",
    "for i in range(96):\n",
    "    T += danom.lat[i] == mask.lat[i]\n",
    "    F += danom.lat[i] != mask.lat[i]\n",
    "    c += 1\n",
    "T"
   ]
  },
  {
   "cell_type": "code",
   "execution_count": null,
   "metadata": {},
   "outputs": [],
   "source": [
    "#ds0\n",
    "#new_mask\n",
    "#sum(ds0.lat == new_mask.lat)\n",
    "Sm"
   ]
  },
  {
   "cell_type": "code",
   "execution_count": null,
   "metadata": {},
   "outputs": [],
   "source": [
    "xr.ones_like(danom)*mask.values"
   ]
  },
  {
   "cell_type": "code",
   "execution_count": null,
   "metadata": {},
   "outputs": [],
   "source": [
    "diffs = danom.lat.values - mask.lat.values\n",
    "diffs[danom.lat.values != mask.lat.values]"
   ]
  },
  {
   "cell_type": "code",
   "execution_count": null,
   "metadata": {},
   "outputs": [],
   "source": [
    "mask.lat.values[danom.lat.values != mask.lat.values]"
   ]
  },
  {
   "cell_type": "code",
   "execution_count": null,
   "metadata": {},
   "outputs": [],
   "source": [
    "from matplotlib import pyplot as plt\n",
    "%matplotlib inline\n",
    "#plt.rcParams['figure.figsize'] = (8,5)\n",
    "#masked = ds0*xr.ones_like(ds0)*ls_mask\n",
    "#masked = masked.isel({'lat': (masked.lat>-35)*(masked.lat<15),'lon': (masked.lon>-28)*(masked.lon<20)})\n",
    "#masked['ts'] = masked['ts'] - 273\n",
    "#new_mask = (masked.lat>4)*(6*masked.lat - 5*masked.lon <164) + (masked.lat<4)*(6*masked.lat + 5*masked.lon > -116)\n",
    "#(masked*xr.ones_like(masked)*new_mask).ts[0].sortby(masked.lon).plot()\n",
    "Sm.ts.isel({'time':Sm.time == Sm.time(0)})"
   ]
  },
  {
   "cell_type": "code",
   "execution_count": null,
   "metadata": {},
   "outputs": [],
   "source": [
    "gsurl"
   ]
  },
  {
   "cell_type": "code",
   "execution_count": null,
   "metadata": {},
   "outputs": [],
   "source": [
    "Sm.GT.plot()"
   ]
  },
  {
   "cell_type": "code",
   "execution_count": null,
   "metadata": {},
   "outputs": [],
   "source": [
    "ds_out = xe.util.grid_global(1, 2)\n",
    "regridder = xe.Regridder(Sm, ds_out, \"nearest_s2d\")\n",
    "Sm_out = regridder(Sm['ts'])\n",
    "Sm_out[0].plot()"
   ]
  },
  {
   "cell_type": "code",
   "execution_count": null,
   "metadata": {},
   "outputs": [],
   "source": [
    "! tree -L 9 ~/CMIP6-downloads #unix tree of created files; I didn't create any."
   ]
  },
  {
   "cell_type": "code",
   "execution_count": null,
   "metadata": {},
   "outputs": [],
   "source": [
    "! du -sh ~/CMIP6-downloads/*/*/*/*"
   ]
  },
  {
   "cell_type": "code",
   "execution_count": null,
   "metadata": {},
   "outputs": [],
   "source": [
    "ds = xr.open_dataset('/home/naomi/CMIP6-downloads/CMIP/NCAR/CESM2/historical/r1i1p1f1/Amon/sfcWind/gn/sfcWind.nc')"
   ]
  },
  {
   "cell_type": "code",
   "execution_count": null,
   "metadata": {},
   "outputs": [],
   "source": [
    "ds.sfcWind.plot(vmin=0,vmax=12)"
   ]
  },
  {
   "cell_type": "code",
   "execution_count": null,
   "metadata": {},
   "outputs": [],
   "source": [
    "#Convert longitude coordinates from 0-359 to -180-179:\n",
    "\n",
    "ds2 = ds.assign_coords(lon=(((ds.lon + 180) % 360) - 180)).sortby('lon')\n",
    "\n",
    "#or\n",
    "\n",
    "ds.coords['lon'] = (ds.coords['lon'] + 180) % 360 - 180\n",
    "ds = ds.sortby(ds.lon)"
   ]
  },
  {
   "cell_type": "code",
   "execution_count": null,
   "metadata": {},
   "outputs": [],
   "source": [
    "ds0"
   ]
  },
  {
   "cell_type": "code",
   "execution_count": 271,
   "metadata": {},
   "outputs": [
    {
     "data": {
      "text/plain": [
       "<matplotlib.collections.QuadMesh at 0x7fade83e4eb8>"
      ]
     },
     "execution_count": 271,
     "metadata": {},
     "output_type": "execute_result"
    },
    {
     "data": {
      "image/png": "[encoded data removed]",
      "text/plain": [
       "<Figure size 576x360 with 2 Axes>"
      ]
     },
     "metadata": {},
     "output_type": "display_data"
    }
   ],
   "source": [
    "ds0.ts[0].plot()"
   ]
  },
  {
   "cell_type": "code",
   "execution_count": 427,
   "metadata": {},
   "outputs": [
    {
     "data": {
      "text/plain": [
       "<matplotlib.collections.QuadMesh at 0x7fad20555b70>"
      ]
     },
     "execution_count": 427,
     "metadata": {},
     "output_type": "execute_result"
    },
    {
     "data": {
      "image/png": "[encoded data removed]",
      "text/plain": [
       "<Figure size 576x360 with 2 Axes>"
      ]
     },
     "metadata": {},
     "output_type": "display_data"
    }
   ],
   "source": [
    "(xr.ones_like(ds0.ts[0])*new_mask*ls_mask).plot()"
   ]
  },
  {
   "cell_type": "code",
   "execution_count": null,
   "metadata": {},
   "outputs": [],
   "source": []
  }
 ],
 "metadata": {
  "kernelspec": {
   "display_name": "myPython3.6",
   "language": "python",
   "name": "my3.6"
  },
  "language_info": {
   "codemirror_mode": {
    "name": "ipython",
    "version": 3
   },
   "file_extension": ".py",
   "mimetype": "text/x-python",
   "name": "python",
   "nbconvert_exporter": "python",
   "pygments_lexer": "ipython3",
   "version": "3.6.6"
  }
 },
 "nbformat": 4,
 "nbformat_minor": 4
}
